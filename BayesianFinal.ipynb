{
 "cells": [
  {
   "cell_type": "markdown",
   "id": "5b5e8705",
   "metadata": {},
   "source": [
    "## 1. Orthodontic Distance"
   ]
  },
  {
   "cell_type": "code",
   "execution_count": 7,
   "id": "7d15babd",
   "metadata": {},
   "outputs": [],
   "source": [
    "import pandas as pd \n",
    "import numpy as np\n",
    "import pymc3 as pm\n",
    "import arviz as az"
   ]
  },
  {
   "cell_type": "code",
   "execution_count": 2,
   "id": "bc9c434b",
   "metadata": {},
   "outputs": [],
   "source": [
    "orth_data=pd.read_csv('./ortho.csv')"
   ]
  },
  {
   "cell_type": "code",
   "execution_count": 3,
   "id": "9d0eb046",
   "metadata": {
    "scrolled": true
   },
   "outputs": [
    {
     "data": {
      "text/html": [
       "<div>\n",
       "<style scoped>\n",
       "    .dataframe tbody tr th:only-of-type {\n",
       "        vertical-align: middle;\n",
       "    }\n",
       "\n",
       "    .dataframe tbody tr th {\n",
       "        vertical-align: top;\n",
       "    }\n",
       "\n",
       "    .dataframe thead th {\n",
       "        text-align: right;\n",
       "    }\n",
       "</style>\n",
       "<table border=\"1\" class=\"dataframe\">\n",
       "  <thead>\n",
       "    <tr style=\"text-align: right;\">\n",
       "      <th></th>\n",
       "      <th>y</th>\n",
       "      <th>age</th>\n",
       "      <th>Subject</th>\n",
       "      <th>Sex</th>\n",
       "      <th>Sex_coded</th>\n",
       "    </tr>\n",
       "  </thead>\n",
       "  <tbody>\n",
       "    <tr>\n",
       "      <th>0</th>\n",
       "      <td>26.0</td>\n",
       "      <td>8</td>\n",
       "      <td>M01</td>\n",
       "      <td>Male</td>\n",
       "      <td>1</td>\n",
       "    </tr>\n",
       "    <tr>\n",
       "      <th>1</th>\n",
       "      <td>25.0</td>\n",
       "      <td>10</td>\n",
       "      <td>M01</td>\n",
       "      <td>Male</td>\n",
       "      <td>1</td>\n",
       "    </tr>\n",
       "    <tr>\n",
       "      <th>2</th>\n",
       "      <td>29.0</td>\n",
       "      <td>12</td>\n",
       "      <td>M01</td>\n",
       "      <td>Male</td>\n",
       "      <td>1</td>\n",
       "    </tr>\n",
       "    <tr>\n",
       "      <th>3</th>\n",
       "      <td>31.0</td>\n",
       "      <td>14</td>\n",
       "      <td>M01</td>\n",
       "      <td>Male</td>\n",
       "      <td>1</td>\n",
       "    </tr>\n",
       "    <tr>\n",
       "      <th>4</th>\n",
       "      <td>21.5</td>\n",
       "      <td>8</td>\n",
       "      <td>M02</td>\n",
       "      <td>Male</td>\n",
       "      <td>1</td>\n",
       "    </tr>\n",
       "    <tr>\n",
       "      <th>...</th>\n",
       "      <td>...</td>\n",
       "      <td>...</td>\n",
       "      <td>...</td>\n",
       "      <td>...</td>\n",
       "      <td>...</td>\n",
       "    </tr>\n",
       "    <tr>\n",
       "      <th>103</th>\n",
       "      <td>19.5</td>\n",
       "      <td>14</td>\n",
       "      <td>F10</td>\n",
       "      <td>Female</td>\n",
       "      <td>-1</td>\n",
       "    </tr>\n",
       "    <tr>\n",
       "      <th>104</th>\n",
       "      <td>24.5</td>\n",
       "      <td>8</td>\n",
       "      <td>F11</td>\n",
       "      <td>Female</td>\n",
       "      <td>-1</td>\n",
       "    </tr>\n",
       "    <tr>\n",
       "      <th>105</th>\n",
       "      <td>25.0</td>\n",
       "      <td>10</td>\n",
       "      <td>F11</td>\n",
       "      <td>Female</td>\n",
       "      <td>-1</td>\n",
       "    </tr>\n",
       "    <tr>\n",
       "      <th>106</th>\n",
       "      <td>28.0</td>\n",
       "      <td>12</td>\n",
       "      <td>F11</td>\n",
       "      <td>Female</td>\n",
       "      <td>-1</td>\n",
       "    </tr>\n",
       "    <tr>\n",
       "      <th>107</th>\n",
       "      <td>28.0</td>\n",
       "      <td>14</td>\n",
       "      <td>F11</td>\n",
       "      <td>Female</td>\n",
       "      <td>-1</td>\n",
       "    </tr>\n",
       "  </tbody>\n",
       "</table>\n",
       "<p>108 rows × 5 columns</p>\n",
       "</div>"
      ],
      "text/plain": [
       "        y  age Subject     Sex  Sex_coded\n",
       "0    26.0    8     M01    Male          1\n",
       "1    25.0   10     M01    Male          1\n",
       "2    29.0   12     M01    Male          1\n",
       "3    31.0   14     M01    Male          1\n",
       "4    21.5    8     M02    Male          1\n",
       "..    ...  ...     ...     ...        ...\n",
       "103  19.5   14     F10  Female         -1\n",
       "104  24.5    8     F11  Female         -1\n",
       "105  25.0   10     F11  Female         -1\n",
       "106  28.0   12     F11  Female         -1\n",
       "107  28.0   14     F11  Female         -1\n",
       "\n",
       "[108 rows x 5 columns]"
      ]
     },
     "execution_count": 3,
     "metadata": {},
     "output_type": "execute_result"
    }
   ],
   "source": [
    "orth_data"
   ]
  },
  {
   "cell_type": "code",
   "execution_count": 32,
   "id": "04223041",
   "metadata": {},
   "outputs": [],
   "source": [
    "y=orth_data['y']\n",
    "age=orth_data['age']\n",
    "subject=orth_data['Subject']\n",
    "sex=orth_data['Sex_coded']"
   ]
  },
  {
   "cell_type": "code",
   "execution_count": 33,
   "id": "e6b38103",
   "metadata": {},
   "outputs": [],
   "source": [
    "n_subject=len(sex.unique())"
   ]
  },
  {
   "cell_type": "code",
   "execution_count": 34,
   "id": "d2593bfb",
   "metadata": {},
   "outputs": [],
   "source": [
    "random_model=pm.Model()"
   ]
  },
  {
   "cell_type": "code",
   "execution_count": 35,
   "id": "593b54b5",
   "metadata": {},
   "outputs": [
    {
     "name": "stderr",
     "output_type": "stream",
     "text": [
      "/usr/local/lib/python3.9/site-packages/deprecat/classic.py:215: FutureWarning: In v4.0, pm.sample will return an `arviz.InferenceData` object instead of a `MultiTrace` by default. You can pass return_inferencedata=True or return_inferencedata=False to be safe and silence this warning.\n",
      "  return wrapped_(*args_, **kwargs_)\n",
      "Auto-assigning NUTS sampler...\n",
      "Initializing NUTS using jitter+adapt_diag...\n",
      "Multiprocess sampling (4 chains in 4 jobs)\n",
      "NUTS: [tau1, beta2, beta1, beta0, tau0, mu0]\n"
     ]
    },
    {
     "data": {
      "text/html": [
       "\n",
       "<style>\n",
       "    /* Turns off some styling */\n",
       "    progress {\n",
       "        /* gets rid of default border in Firefox and Opera. */\n",
       "        border: none;\n",
       "        /* Needs to be in here for Safari polyfill so background images work as expected. */\n",
       "        background-size: auto;\n",
       "    }\n",
       "    .progress-bar-interrupted, .progress-bar-interrupted::-webkit-progress-bar {\n",
       "        background: #F44336;\n",
       "    }\n",
       "</style>\n"
      ],
      "text/plain": [
       "<IPython.core.display.HTML object>"
      ]
     },
     "metadata": {},
     "output_type": "display_data"
    },
    {
     "data": {
      "text/html": [
       "\n",
       "    <div>\n",
       "      <progress value='440000' class='' max='440000' style='width:300px; height:20px; vertical-align: middle;'></progress>\n",
       "      100.00% [440000/440000 10:41<00:00 Sampling 4 chains, 129,661 divergences]\n",
       "    </div>\n",
       "    "
      ],
      "text/plain": [
       "<IPython.core.display.HTML object>"
      ]
     },
     "metadata": {},
     "output_type": "display_data"
    },
    {
     "name": "stderr",
     "output_type": "stream",
     "text": [
      "Sampling 4 chains for 10_000 tune and 100_000 draw iterations (40_000 + 400_000 draws total) took 652 seconds.\n",
      "There were 25606 divergences after tuning. Increase `target_accept` or reparameterize.\n",
      "The acceptance probability does not match the target. It is 0.5931552171769056, but should be close to 0.8. Try to increase the number of tuning steps.\n",
      "There were 31846 divergences after tuning. Increase `target_accept` or reparameterize.\n",
      "The acceptance probability does not match the target. It is 0.5364114248441731, but should be close to 0.8. Try to increase the number of tuning steps.\n",
      "There were 47323 divergences after tuning. Increase `target_accept` or reparameterize.\n",
      "The acceptance probability does not match the target. It is 0.37832458942784797, but should be close to 0.8. Try to increase the number of tuning steps.\n",
      "There were 24886 divergences after tuning. Increase `target_accept` or reparameterize.\n",
      "The acceptance probability does not match the target. It is 0.6154031253554553, but should be close to 0.8. Try to increase the number of tuning steps.\n",
      "The estimated number of effective samples is smaller than 200 for some parameters.\n"
     ]
    }
   ],
   "source": [
    "with random_model:\n",
    "    \n",
    "    ## set hyper priors \n",
    "    \n",
    "    mu0=pm.Normal('mu0',0,10**8)\n",
    "    \n",
    "    tau0=pm.Gamma('tau0',0.01,0.01)\n",
    "    sigma0=1/tau0\n",
    "    \n",
    "    ## random intercept \n",
    "    \n",
    "    beta0=pm.Normal('beta0',mu=mu0,sigma=sigma0,shape=n_subject)\n",
    "    \n",
    "    ## fixed slope\n",
    "    \n",
    "    beta1=pm.Normal('beta1',0,10**8)\n",
    "    beta2=pm.Normal('beta2',0,10**8)\n",
    "    \n",
    "    ### population variance \n",
    "    \n",
    "    tau1=pm.Gamma('tau1',0.01,0.01)\n",
    "    sigma=1/tau1\n",
    "    \n",
    "    ### distribution mean \n",
    "    \n",
    "    y_mean=beta0[sex] +beta1*age +beta2*sex \n",
    "    \n",
    "   ## likelihood function \n",
    "   \n",
    "    obs=pm.Normal('obs',y_mean,sigma=sigma,observed=y)\n",
    "    \n",
    "    # Specify sampling options\n",
    "    \n",
    "    trace = pm.sample(100000, tune=10000, # burn-in 10k iterations\n",
    "                           model=random_model)\n",
    "\n",
    "    \n"
   ]
  },
  {
   "cell_type": "markdown",
   "id": "fa52fac7",
   "metadata": {},
   "source": [
    "## Fit the random effects model and plot the posterior densities of the five parameters"
   ]
  },
  {
   "cell_type": "code",
   "execution_count": 37,
   "id": "5e5f5675",
   "metadata": {},
   "outputs": [
    {
     "name": "stderr",
     "output_type": "stream",
     "text": [
      "Got error No model on context stack. trying to find log_likelihood in translation.\n",
      "/usr/local/lib/python3.9/site-packages/arviz/data/io_pymc3_3x.py:98: FutureWarning: Using `from_pymc3` without the model will be deprecated in a future release. Not using the model will return less accurate and less useful results. Make sure you use the model argument or call from_pymc3 within a model context.\n",
      "  warnings.warn(\n"
     ]
    },
    {
     "data": {
      "text/html": [
       "<div>\n",
       "<style scoped>\n",
       "    .dataframe tbody tr th:only-of-type {\n",
       "        vertical-align: middle;\n",
       "    }\n",
       "\n",
       "    .dataframe tbody tr th {\n",
       "        vertical-align: top;\n",
       "    }\n",
       "\n",
       "    .dataframe thead th {\n",
       "        text-align: right;\n",
       "    }\n",
       "</style>\n",
       "<table border=\"1\" class=\"dataframe\">\n",
       "  <thead>\n",
       "    <tr style=\"text-align: right;\">\n",
       "      <th></th>\n",
       "      <th>mean</th>\n",
       "      <th>sd</th>\n",
       "      <th>hdi_3%</th>\n",
       "      <th>hdi_97%</th>\n",
       "      <th>mcse_mean</th>\n",
       "      <th>mcse_sd</th>\n",
       "      <th>ess_bulk</th>\n",
       "      <th>ess_tail</th>\n",
       "      <th>r_hat</th>\n",
       "    </tr>\n",
       "  </thead>\n",
       "  <tbody>\n",
       "    <tr>\n",
       "      <th>mu0</th>\n",
       "      <td>-52029.837</td>\n",
       "      <td>4.960885e+07</td>\n",
       "      <td>-1.060915e+08</td>\n",
       "      <td>1.051370e+08</td>\n",
       "      <td>176096.322</td>\n",
       "      <td>519648.391</td>\n",
       "      <td>32333.0</td>\n",
       "      <td>21059.0</td>\n",
       "      <td>1.02</td>\n",
       "    </tr>\n",
       "    <tr>\n",
       "      <th>beta0[0]</th>\n",
       "      <td>-6529074.361</td>\n",
       "      <td>6.190815e+08</td>\n",
       "      <td>-3.197440e+08</td>\n",
       "      <td>3.252072e+08</td>\n",
       "      <td>6714716.159</td>\n",
       "      <td>4748184.236</td>\n",
       "      <td>33639.0</td>\n",
       "      <td>16810.0</td>\n",
       "      <td>1.02</td>\n",
       "    </tr>\n",
       "    <tr>\n",
       "      <th>beta0[1]</th>\n",
       "      <td>16.502</td>\n",
       "      <td>1.113000e+00</td>\n",
       "      <td>1.455300e+01</td>\n",
       "      <td>1.857100e+01</td>\n",
       "      <td>0.056</td>\n",
       "      <td>0.039</td>\n",
       "      <td>412.0</td>\n",
       "      <td>62.0</td>\n",
       "      <td>1.01</td>\n",
       "    </tr>\n",
       "    <tr>\n",
       "      <th>beta1</th>\n",
       "      <td>0.664</td>\n",
       "      <td>9.900000e-02</td>\n",
       "      <td>4.830000e-01</td>\n",
       "      <td>8.440000e-01</td>\n",
       "      <td>0.005</td>\n",
       "      <td>0.004</td>\n",
       "      <td>459.0</td>\n",
       "      <td>4880.0</td>\n",
       "      <td>1.01</td>\n",
       "    </tr>\n",
       "    <tr>\n",
       "      <th>beta2</th>\n",
       "      <td>1.162</td>\n",
       "      <td>2.240000e-01</td>\n",
       "      <td>7.240000e-01</td>\n",
       "      <td>1.547000e+00</td>\n",
       "      <td>0.016</td>\n",
       "      <td>0.012</td>\n",
       "      <td>206.0</td>\n",
       "      <td>2805.0</td>\n",
       "      <td>1.02</td>\n",
       "    </tr>\n",
       "    <tr>\n",
       "      <th>tau0</th>\n",
       "      <td>0.000</td>\n",
       "      <td>0.000000e+00</td>\n",
       "      <td>0.000000e+00</td>\n",
       "      <td>0.000000e+00</td>\n",
       "      <td>0.000</td>\n",
       "      <td>0.000</td>\n",
       "      <td>123.0</td>\n",
       "      <td>213.0</td>\n",
       "      <td>1.03</td>\n",
       "    </tr>\n",
       "    <tr>\n",
       "      <th>tau1</th>\n",
       "      <td>0.443</td>\n",
       "      <td>3.200000e-02</td>\n",
       "      <td>3.910000e-01</td>\n",
       "      <td>5.150000e-01</td>\n",
       "      <td>0.002</td>\n",
       "      <td>0.001</td>\n",
       "      <td>373.0</td>\n",
       "      <td>195.0</td>\n",
       "      <td>1.01</td>\n",
       "    </tr>\n",
       "  </tbody>\n",
       "</table>\n",
       "</div>"
      ],
      "text/plain": [
       "                 mean            sd        hdi_3%       hdi_97%    mcse_mean  \\\n",
       "mu0        -52029.837  4.960885e+07 -1.060915e+08  1.051370e+08   176096.322   \n",
       "beta0[0] -6529074.361  6.190815e+08 -3.197440e+08  3.252072e+08  6714716.159   \n",
       "beta0[1]       16.502  1.113000e+00  1.455300e+01  1.857100e+01        0.056   \n",
       "beta1           0.664  9.900000e-02  4.830000e-01  8.440000e-01        0.005   \n",
       "beta2           1.162  2.240000e-01  7.240000e-01  1.547000e+00        0.016   \n",
       "tau0            0.000  0.000000e+00  0.000000e+00  0.000000e+00        0.000   \n",
       "tau1            0.443  3.200000e-02  3.910000e-01  5.150000e-01        0.002   \n",
       "\n",
       "              mcse_sd  ess_bulk  ess_tail  r_hat  \n",
       "mu0        519648.391   32333.0   21059.0   1.02  \n",
       "beta0[0]  4748184.236   33639.0   16810.0   1.02  \n",
       "beta0[1]        0.039     412.0      62.0   1.01  \n",
       "beta1           0.004     459.0    4880.0   1.01  \n",
       "beta2           0.012     206.0    2805.0   1.02  \n",
       "tau0            0.000     123.0     213.0   1.03  \n",
       "tau1            0.001     373.0     195.0   1.01  "
      ]
     },
     "execution_count": 37,
     "metadata": {},
     "output_type": "execute_result"
    }
   ],
   "source": [
    "summary_df=pm.summary(trace)\n",
    "summary_df"
   ]
  },
  {
   "cell_type": "code",
   "execution_count": 38,
   "id": "77cbb628",
   "metadata": {},
   "outputs": [
    {
     "name": "stderr",
     "output_type": "stream",
     "text": [
      "Got error No model on context stack. trying to find log_likelihood in translation.\n",
      "/usr/local/lib/python3.9/site-packages/arviz/data/io_pymc3_3x.py:98: FutureWarning: Using `from_pymc3` without the model will be deprecated in a future release. Not using the model will return less accurate and less useful results. Make sure you use the model argument or call from_pymc3 within a model context.\n",
      "  warnings.warn(\n"
     ]
    },
    {
     "data": {
      "text/plain": [
       "array([[<AxesSubplot:title={'center':'mu0'}>,\n",
       "        <AxesSubplot:title={'center':'beta0\\n0'}>,\n",
       "        <AxesSubplot:title={'center':'beta0\\n1'}>],\n",
       "       [<AxesSubplot:title={'center':'beta1'}>,\n",
       "        <AxesSubplot:title={'center':'beta2'}>,\n",
       "        <AxesSubplot:title={'center':'tau0'}>],\n",
       "       [<AxesSubplot:title={'center':'tau1'}>, <AxesSubplot:>,\n",
       "        <AxesSubplot:>]], dtype=object)"
      ]
     },
     "execution_count": 38,
     "metadata": {},
     "output_type": "execute_result"
    },
    {
     "data": {
      "image/png": "[encoded data removed]",
      "text/plain": [
       "<Figure size 1490.4x993.6 with 9 Axes>"
      ]
     },
     "metadata": {
      "needs_background": "light"
     },
     "output_type": "display_data"
    }
   ],
   "source": [
    "pm.plot_posterior(trace,hdi_prob=0.95)"
   ]
  },
  {
   "cell_type": "markdown",
   "id": "1ec7242c",
   "metadata": {},
   "source": [
    "## Plot the posterior density of ρ"
   ]
  },
  {
   "cell_type": "code",
   "execution_count": 43,
   "id": "96736c88",
   "metadata": {},
   "outputs": [
    {
     "name": "stderr",
     "output_type": "stream",
     "text": [
      "/usr/local/lib/python3.9/site-packages/pymc3/sampling.py:1708: UserWarning: samples parameter is smaller than nchains times ndraws, some draws and/or chains may not be represented in the returned posterior predictive sample\n",
      "  warnings.warn(\n"
     ]
    },
    {
     "data": {
      "text/html": [
       "\n",
       "<style>\n",
       "    /* Turns off some styling */\n",
       "    progress {\n",
       "        /* gets rid of default border in Firefox and Opera. */\n",
       "        border: none;\n",
       "        /* Needs to be in here for Safari polyfill so background images work as expected. */\n",
       "        background-size: auto;\n",
       "    }\n",
       "    .progress-bar-interrupted, .progress-bar-interrupted::-webkit-progress-bar {\n",
       "        background: #F44336;\n",
       "    }\n",
       "</style>\n"
      ],
      "text/plain": [
       "<IPython.core.display.HTML object>"
      ]
     },
     "metadata": {},
     "output_type": "display_data"
    },
    {
     "data": {
      "text/html": [
       "\n",
       "    <div>\n",
       "      <progress value='10000' class='' max='10000' style='width:300px; height:20px; vertical-align: middle;'></progress>\n",
       "      100.00% [10000/10000 00:08<00:00]\n",
       "    </div>\n",
       "    "
      ],
      "text/plain": [
       "<IPython.core.display.HTML object>"
      ]
     },
     "metadata": {},
     "output_type": "display_data"
    }
   ],
   "source": [
    "ppc=pm.sample_posterior_predictive(trace,samples=10000,model=random_model)"
   ]
  },
  {
   "cell_type": "code",
   "execution_count": 50,
   "id": "6e4b3e43",
   "metadata": {},
   "outputs": [
    {
     "name": "stderr",
     "output_type": "stream",
     "text": [
      "/usr/local/lib/python3.9/site-packages/pymc3/distributions/continuous.py:514: RuntimeWarning: divide by zero encountered in power\n",
      "  stats.norm.rvs, loc=mu, scale=tau ** -0.5, dist_shape=self.shape, size=size\n",
      "/usr/local/lib/python3.9/site-packages/scipy/stats/_distn_infrastructure.py:1094: RuntimeWarning: invalid value encountered in add\n",
      "  vals = vals * scale + loc\n",
      "/usr/local/lib/python3.9/site-packages/pymc3/distributions/transforms.py:221: RuntimeWarning: divide by zero encountered in log\n",
      "  return np.log(x)\n"
     ]
    }
   ],
   "source": [
    "prior_pred = pm.sample_prior_predictive(model=random_model)\n"
   ]
  },
  {
   "cell_type": "code",
   "execution_count": 60,
   "id": "fcb61bbd",
   "metadata": {},
   "outputs": [
    {
     "name": "stderr",
     "output_type": "stream",
     "text": [
      "/var/folders/_f/1k5wm9qj1kb8s6fp2rmvwsy00000gn/T/ipykernel_14379/656014180.py:4: RuntimeWarning: divide by zero encountered in true_divide\n",
      "  rou=(1/tau0)/(1/tau0+1/tau1)\n"
     ]
    }
   ],
   "source": [
    "tau0=prior_pred['tau0']\n",
    "tau1=prior_pred['tau1']\n",
    "\n",
    "rou=(1/tau0)/(1/tau0+1/tau1)"
   ]
  },
  {
   "cell_type": "code",
   "execution_count": 62,
   "id": "2413f064",
   "metadata": {},
   "outputs": [
    {
     "data": {
      "text/plain": [
       "<AxesSubplot:title={'center':'x'}>"
      ]
     },
     "execution_count": 62,
     "metadata": {},
     "output_type": "execute_result"
    },
    {
     "data": {
      "image/png": "[encoded data removed]",
      "text/plain": [
       "<Figure size 432x288 with 1 Axes>"
      ]
     },
     "metadata": {
      "needs_background": "light"
     },
     "output_type": "display_data"
    }
   ],
   "source": [
    "pm.plot_posterior(rou,hdi_prob=0.95)"
   ]
  },
  {
   "cell_type": "markdown",
   "id": "676ff9e8",
   "metadata": {},
   "source": [
    "Yes, it appears to be significantly different from zero from the posterior plot above."
   ]
  },
  {
   "cell_type": "markdown",
   "id": "44443aff",
   "metadata": {},
   "source": [
    "## Fit the model ignoring the random effects"
   ]
  },
  {
   "cell_type": "code",
   "execution_count": 63,
   "id": "05be3b3b",
   "metadata": {},
   "outputs": [],
   "source": [
    "fixed_model=pm.Model()"
   ]
  },
  {
   "cell_type": "code",
   "execution_count": 64,
   "id": "2c8f8789",
   "metadata": {},
   "outputs": [
    {
     "name": "stderr",
     "output_type": "stream",
     "text": [
      "/usr/local/lib/python3.9/site-packages/deprecat/classic.py:215: FutureWarning: In v4.0, pm.sample will return an `arviz.InferenceData` object instead of a `MultiTrace` by default. You can pass return_inferencedata=True or return_inferencedata=False to be safe and silence this warning.\n",
      "  return wrapped_(*args_, **kwargs_)\n",
      "Auto-assigning NUTS sampler...\n",
      "Initializing NUTS using jitter+adapt_diag...\n",
      "Multiprocess sampling (4 chains in 4 jobs)\n",
      "NUTS: [tau1, beta2, beta1, beta0]\n"
     ]
    },
    {
     "data": {
      "text/html": [
       "\n",
       "<style>\n",
       "    /* Turns off some styling */\n",
       "    progress {\n",
       "        /* gets rid of default border in Firefox and Opera. */\n",
       "        border: none;\n",
       "        /* Needs to be in here for Safari polyfill so background images work as expected. */\n",
       "        background-size: auto;\n",
       "    }\n",
       "    .progress-bar-interrupted, .progress-bar-interrupted::-webkit-progress-bar {\n",
       "        background: #F44336;\n",
       "    }\n",
       "</style>\n"
      ],
      "text/plain": [
       "<IPython.core.display.HTML object>"
      ]
     },
     "metadata": {},
     "output_type": "display_data"
    },
    {
     "data": {
      "text/html": [
       "\n",
       "    <div>\n",
       "      <progress value='440000' class='' max='440000' style='width:300px; height:20px; vertical-align: middle;'></progress>\n",
       "      100.00% [440000/440000 08:57<00:00 Sampling 4 chains, 126 divergences]\n",
       "    </div>\n",
       "    "
      ],
      "text/plain": [
       "<IPython.core.display.HTML object>"
      ]
     },
     "metadata": {},
     "output_type": "display_data"
    },
    {
     "name": "stderr",
     "output_type": "stream",
     "text": [
      "Sampling 4 chains for 10_000 tune and 100_000 draw iterations (40_000 + 400_000 draws total) took 548 seconds.\n",
      "There were 126 divergences after tuning. Increase `target_accept` or reparameterize.\n"
     ]
    }
   ],
   "source": [
    "with fixed_model:\n",
    "    \n",
    "  \n",
    "\n",
    "   \n",
    "      ## fixed intercept\n",
    "    beta0=pm.Normal('beta0',0,10**8)\n",
    "    \n",
    "    ## fixed slope\n",
    "    \n",
    "    beta1=pm.Normal('beta1',0,10**8)\n",
    "    beta2=pm.Normal('beta2',0,10**8)\n",
    "    \n",
    "    ### population variance \n",
    "    \n",
    "    tau1=pm.Gamma('tau1',0.01,0.01)\n",
    "    \n",
    "    sigma=1/tau1\n",
    "    \n",
    "    ### distribution mean \n",
    "    \n",
    "    y_mean=beta0 +beta1*age +beta2*sex \n",
    "    \n",
    "   ## likelihood function \n",
    "   \n",
    "    obs=pm.Normal('obs',y_mean,sigma=sigma,observed=y)\n",
    "    \n",
    "    # Specify sampling options\n",
    "    \n",
    "    trace = pm.sample(100000, tune=10000, # burn-in 10k iterations\n",
    "                           model=fixed_model)\n"
   ]
  },
  {
   "cell_type": "code",
   "execution_count": 65,
   "id": "c23f6f6b",
   "metadata": {},
   "outputs": [
    {
     "name": "stderr",
     "output_type": "stream",
     "text": [
      "Got error No model on context stack. trying to find log_likelihood in translation.\n",
      "/usr/local/lib/python3.9/site-packages/arviz/data/io_pymc3_3x.py:98: FutureWarning: Using `from_pymc3` without the model will be deprecated in a future release. Not using the model will return less accurate and less useful results. Make sure you use the model argument or call from_pymc3 within a model context.\n",
      "  warnings.warn(\n"
     ]
    },
    {
     "data": {
      "text/plain": [
       "array([<AxesSubplot:title={'center':'beta0'}>,\n",
       "       <AxesSubplot:title={'center':'beta1'}>,\n",
       "       <AxesSubplot:title={'center':'beta2'}>,\n",
       "       <AxesSubplot:title={'center':'tau1'}>], dtype=object)"
      ]
     },
     "execution_count": 65,
     "metadata": {},
     "output_type": "execute_result"
    },
    {
     "data": {
      "image/png": "[encoded data removed]",
      "text/plain": [
       "<Figure size 1987.2x331.2 with 4 Axes>"
      ]
     },
     "metadata": {
      "needs_background": "light"
     },
     "output_type": "display_data"
    }
   ],
   "source": [
    "pm.plot_posterior(trace,hdi_prob=0.95)"
   ]
  },
  {
   "cell_type": "markdown",
   "id": "870f2762",
   "metadata": {},
   "source": [
    "In the randon effect model, we notice that the paosterior distributions of parameters do not follow normal distributions\n",
    "except beta0 and the mean of beta0 is close to zero. In the fixed effect model, all parameters follow normal distributions."
   ]
  },
  {
   "cell_type": "markdown",
   "id": "37e0049f",
   "metadata": {},
   "source": [
    "# 2. Nanowire density"
   ]
  },
  {
   "cell_type": "code",
   "execution_count": 104,
   "id": "8e1935d8",
   "metadata": {},
   "outputs": [],
   "source": [
    "nano=pd.read_csv('./nanowire.csv')"
   ]
  },
  {
   "cell_type": "code",
   "execution_count": 116,
   "id": "6e3a7048",
   "metadata": {},
   "outputs": [
    {
     "data": {
      "text/html": [
       "<div>\n",
       "<style scoped>\n",
       "    .dataframe tbody tr th:only-of-type {\n",
       "        vertical-align: middle;\n",
       "    }\n",
       "\n",
       "    .dataframe tbody tr th {\n",
       "        vertical-align: top;\n",
       "    }\n",
       "\n",
       "    .dataframe thead th {\n",
       "        text-align: right;\n",
       "    }\n",
       "</style>\n",
       "<table border=\"1\" class=\"dataframe\">\n",
       "  <thead>\n",
       "    <tr style=\"text-align: right;\">\n",
       "      <th></th>\n",
       "      <th>x</th>\n",
       "      <th>y</th>\n",
       "    </tr>\n",
       "  </thead>\n",
       "  <tbody>\n",
       "    <tr>\n",
       "      <th>0</th>\n",
       "      <td>9.666667</td>\n",
       "      <td>123.000000</td>\n",
       "    </tr>\n",
       "    <tr>\n",
       "      <th>1</th>\n",
       "      <td>9.666667</td>\n",
       "      <td>123.000000</td>\n",
       "    </tr>\n",
       "    <tr>\n",
       "      <th>2</th>\n",
       "      <td>2.500000</td>\n",
       "      <td>46.000000</td>\n",
       "    </tr>\n",
       "    <tr>\n",
       "      <th>3</th>\n",
       "      <td>2.500000</td>\n",
       "      <td>48.000000</td>\n",
       "    </tr>\n",
       "    <tr>\n",
       "      <th>4</th>\n",
       "      <td>5.000000</td>\n",
       "      <td>8.000000</td>\n",
       "    </tr>\n",
       "    <tr>\n",
       "      <th>5</th>\n",
       "      <td>5.000000</td>\n",
       "      <td>11.000000</td>\n",
       "    </tr>\n",
       "    <tr>\n",
       "      <th>6</th>\n",
       "      <td>7.500000</td>\n",
       "      <td>8.000000</td>\n",
       "    </tr>\n",
       "    <tr>\n",
       "      <th>7</th>\n",
       "      <td>7.500000</td>\n",
       "      <td>7.000000</td>\n",
       "    </tr>\n",
       "    <tr>\n",
       "      <th>8</th>\n",
       "      <td>10.000000</td>\n",
       "      <td>7.000000</td>\n",
       "    </tr>\n",
       "    <tr>\n",
       "      <th>9</th>\n",
       "      <td>10.000000</td>\n",
       "      <td>2.000000</td>\n",
       "    </tr>\n",
       "    <tr>\n",
       "      <th>10</th>\n",
       "      <td>12.500000</td>\n",
       "      <td>5.000000</td>\n",
       "    </tr>\n",
       "    <tr>\n",
       "      <th>11</th>\n",
       "      <td>12.500000</td>\n",
       "      <td>1.000000</td>\n",
       "    </tr>\n",
       "    <tr>\n",
       "      <th>12</th>\n",
       "      <td>20.000000</td>\n",
       "      <td>2.000000</td>\n",
       "    </tr>\n",
       "    <tr>\n",
       "      <th>13</th>\n",
       "      <td>25.000000</td>\n",
       "      <td>26.066667</td>\n",
       "    </tr>\n",
       "    <tr>\n",
       "      <th>14</th>\n",
       "      <td>25.000000</td>\n",
       "      <td>26.066667</td>\n",
       "    </tr>\n",
       "  </tbody>\n",
       "</table>\n",
       "</div>"
      ],
      "text/plain": [
       "            x           y\n",
       "0    9.666667  123.000000\n",
       "1    9.666667  123.000000\n",
       "2    2.500000   46.000000\n",
       "3    2.500000   48.000000\n",
       "4    5.000000    8.000000\n",
       "5    5.000000   11.000000\n",
       "6    7.500000    8.000000\n",
       "7    7.500000    7.000000\n",
       "8   10.000000    7.000000\n",
       "9   10.000000    2.000000\n",
       "10  12.500000    5.000000\n",
       "11  12.500000    1.000000\n",
       "12  20.000000    2.000000\n",
       "13  25.000000   26.066667\n",
       "14  25.000000   26.066667"
      ]
     },
     "execution_count": 116,
     "metadata": {},
     "output_type": "execute_result"
    }
   ],
   "source": [
    "nano"
   ]
  },
  {
   "cell_type": "code",
   "execution_count": 117,
   "id": "fc1b44cb",
   "metadata": {},
   "outputs": [],
   "source": [
    "x=nano['x']\n",
    "x[x==0]=np.mean(x)\n",
    "y=nano['y']\n",
    "y[y==0]=np.mean(y)"
   ]
  },
  {
   "cell_type": "code",
   "execution_count": 124,
   "id": "6835f044",
   "metadata": {},
   "outputs": [],
   "source": [
    "nano_model=pm.Model()"
   ]
  },
  {
   "cell_type": "markdown",
   "id": "1dd6f28d",
   "metadata": {},
   "source": [
    "## Obtain the posterior samples of the four parameters"
   ]
  },
  {
   "cell_type": "code",
   "execution_count": 125,
   "id": "2af30886",
   "metadata": {},
   "outputs": [
    {
     "name": "stderr",
     "output_type": "stream",
     "text": [
      "/usr/local/lib/python3.9/site-packages/deprecat/classic.py:215: FutureWarning: In v4.0, pm.sample will return an `arviz.InferenceData` object instead of a `MultiTrace` by default. You can pass return_inferencedata=True or return_inferencedata=False to be safe and silence this warning.\n",
      "  return wrapped_(*args_, **kwargs_)\n",
      "Auto-assigning NUTS sampler...\n",
      "Initializing NUTS using jitter+adapt_diag...\n",
      "Multiprocess sampling (4 chains in 4 jobs)\n",
      "NUTS: [theta4, theta3, theta2, theta1]\n"
     ]
    },
    {
     "data": {
      "text/html": [
       "\n",
       "<style>\n",
       "    /* Turns off some styling */\n",
       "    progress {\n",
       "        /* gets rid of default border in Firefox and Opera. */\n",
       "        border: none;\n",
       "        /* Needs to be in here for Safari polyfill so background images work as expected. */\n",
       "        background-size: auto;\n",
       "    }\n",
       "    .progress-bar-interrupted, .progress-bar-interrupted::-webkit-progress-bar {\n",
       "        background: #F44336;\n",
       "    }\n",
       "</style>\n"
      ],
      "text/plain": [
       "<IPython.core.display.HTML object>"
      ]
     },
     "metadata": {},
     "output_type": "display_data"
    },
    {
     "data": {
      "text/html": [
       "\n",
       "    <div>\n",
       "      <progress value='440000' class='' max='440000' style='width:300px; height:20px; vertical-align: middle;'></progress>\n",
       "      100.00% [440000/440000 10:58<00:00 Sampling 4 chains, 1,670 divergences]\n",
       "    </div>\n",
       "    "
      ],
      "text/plain": [
       "<IPython.core.display.HTML object>"
      ]
     },
     "metadata": {},
     "output_type": "display_data"
    },
    {
     "name": "stderr",
     "output_type": "stream",
     "text": [
      "Sampling 4 chains for 10_000 tune and 100_000 draw iterations (40_000 + 400_000 draws total) took 671 seconds.\n",
      "There were 903 divergences after tuning. Increase `target_accept` or reparameterize.\n",
      "The acceptance probability does not match the target. It is 0.6966239901070939, but should be close to 0.8. Try to increase the number of tuning steps.\n",
      "There were 655 divergences after tuning. Increase `target_accept` or reparameterize.\n",
      "There were 112 divergences after tuning. Increase `target_accept` or reparameterize.\n",
      "The rhat statistic is larger than 1.4 for some parameters. The sampler did not converge.\n",
      "The estimated number of effective samples is smaller than 200 for some parameters.\n"
     ]
    }
   ],
   "source": [
    "with nano_model:\n",
    "    \n",
    "    \n",
    "    \n",
    "    theta1=pm.Lognormal('theta1',0,10)\n",
    "\n",
    "    \n",
    "    theta2=pm.Uniform('theta2',0,1)\n",
    "    \n",
    "    theta3=pm.Lognormal('theta3',0,10)\n",
    "   \n",
    "    \n",
    "    theta4=pm.Lognormal('theta4',0,10)\n",
    "  \n",
    "    \n",
    "    \n",
    "    \n",
    "    \n",
    "    y_mean=theta1*np.exp(-theta2*x**2)+theta3*(1-np.exp(-theta2*x**2))*pm.math.invprobit(theta4)\n",
    "    \n",
    "    \n",
    "    obs=pm.Poisson('obs',mu=y_mean, observed=y)\n",
    "    \n",
    "    trace=pm.sample(100000, tune=10000, # burn-in 10k iterations\n",
    "                           model=nano_model)"
   ]
  },
  {
   "cell_type": "markdown",
   "id": "686a637b",
   "metadata": {},
   "source": [
    "## Obtain the posterior samples of the four parameters"
   ]
  },
  {
   "cell_type": "code",
   "execution_count": 126,
   "id": "4c0593c0",
   "metadata": {},
   "outputs": [
    {
     "name": "stderr",
     "output_type": "stream",
     "text": [
      "Got error No model on context stack. trying to find log_likelihood in translation.\n",
      "/usr/local/lib/python3.9/site-packages/arviz/data/io_pymc3_3x.py:98: FutureWarning: Using `from_pymc3` without the model will be deprecated in a future release. Not using the model will return less accurate and less useful results. Make sure you use the model argument or call from_pymc3 within a model context.\n",
      "  warnings.warn(\n"
     ]
    }
   ],
   "source": [
    "summary_df=pm.summary(trace)"
   ]
  },
  {
   "cell_type": "code",
   "execution_count": 127,
   "id": "ce57b726",
   "metadata": {},
   "outputs": [
    {
     "data": {
      "text/html": [
       "<div>\n",
       "<style scoped>\n",
       "    .dataframe tbody tr th:only-of-type {\n",
       "        vertical-align: middle;\n",
       "    }\n",
       "\n",
       "    .dataframe tbody tr th {\n",
       "        vertical-align: top;\n",
       "    }\n",
       "\n",
       "    .dataframe thead th {\n",
       "        text-align: right;\n",
       "    }\n",
       "</style>\n",
       "<table border=\"1\" class=\"dataframe\">\n",
       "  <thead>\n",
       "    <tr style=\"text-align: right;\">\n",
       "      <th></th>\n",
       "      <th>mean</th>\n",
       "      <th>sd</th>\n",
       "      <th>hdi_3%</th>\n",
       "      <th>hdi_97%</th>\n",
       "      <th>mcse_mean</th>\n",
       "      <th>mcse_sd</th>\n",
       "      <th>ess_bulk</th>\n",
       "      <th>ess_tail</th>\n",
       "      <th>r_hat</th>\n",
       "    </tr>\n",
       "  </thead>\n",
       "  <tbody>\n",
       "    <tr>\n",
       "      <th>theta1</th>\n",
       "      <td>1.917337e+03</td>\n",
       "      <td>2.511783e+03</td>\n",
       "      <td>0.000</td>\n",
       "      <td>7149.607</td>\n",
       "      <td>1.816300e+01</td>\n",
       "      <td>1.284300e+01</td>\n",
       "      <td>15438.0</td>\n",
       "      <td>45956.0</td>\n",
       "      <td>1.00</td>\n",
       "    </tr>\n",
       "    <tr>\n",
       "      <th>theta2</th>\n",
       "      <td>5.940000e-01</td>\n",
       "      <td>2.300000e-01</td>\n",
       "      <td>0.243</td>\n",
       "      <td>1.000</td>\n",
       "      <td>2.000000e-03</td>\n",
       "      <td>1.000000e-03</td>\n",
       "      <td>15350.0</td>\n",
       "      <td>45536.0</td>\n",
       "      <td>1.00</td>\n",
       "    </tr>\n",
       "    <tr>\n",
       "      <th>theta3</th>\n",
       "      <td>3.995300e+01</td>\n",
       "      <td>1.305200e+01</td>\n",
       "      <td>24.364</td>\n",
       "      <td>57.382</td>\n",
       "      <td>6.364000e+00</td>\n",
       "      <td>4.855000e+00</td>\n",
       "      <td>6.0</td>\n",
       "      <td>78.0</td>\n",
       "      <td>1.73</td>\n",
       "    </tr>\n",
       "    <tr>\n",
       "      <th>theta4</th>\n",
       "      <td>1.853551e+17</td>\n",
       "      <td>1.129822e+20</td>\n",
       "      <td>0.000</td>\n",
       "      <td>4770285.219</td>\n",
       "      <td>1.850039e+17</td>\n",
       "      <td>1.308180e+17</td>\n",
       "      <td>6.0</td>\n",
       "      <td>82.0</td>\n",
       "      <td>1.73</td>\n",
       "    </tr>\n",
       "  </tbody>\n",
       "</table>\n",
       "</div>"
      ],
      "text/plain": [
       "                mean            sd  hdi_3%      hdi_97%     mcse_mean  \\\n",
       "theta1  1.917337e+03  2.511783e+03   0.000     7149.607  1.816300e+01   \n",
       "theta2  5.940000e-01  2.300000e-01   0.243        1.000  2.000000e-03   \n",
       "theta3  3.995300e+01  1.305200e+01  24.364       57.382  6.364000e+00   \n",
       "theta4  1.853551e+17  1.129822e+20   0.000  4770285.219  1.850039e+17   \n",
       "\n",
       "             mcse_sd  ess_bulk  ess_tail  r_hat  \n",
       "theta1  1.284300e+01   15438.0   45956.0   1.00  \n",
       "theta2  1.000000e-03   15350.0   45536.0   1.00  \n",
       "theta3  4.855000e+00       6.0      78.0   1.73  \n",
       "theta4  1.308180e+17       6.0      82.0   1.73  "
      ]
     },
     "execution_count": 127,
     "metadata": {},
     "output_type": "execute_result"
    }
   ],
   "source": [
    "summary_df"
   ]
  },
  {
   "cell_type": "markdown",
   "id": "ee57ec0c",
   "metadata": {},
   "source": [
    "## Find the predictive distribution of the density"
   ]
  },
  {
   "cell_type": "code",
   "execution_count": 129,
   "id": "d59e07ca",
   "metadata": {},
   "outputs": [],
   "source": [
    "from theano import shared\n",
    "x_shared = shared(x)\n",
    "\n",
    "x_updated = np.append(x, 2)\n",
    "x_shared.set_value(x_updated)\n",
    "\n"
   ]
  },
  {
   "cell_type": "code",
   "execution_count": 130,
   "id": "6ef78050",
   "metadata": {},
   "outputs": [
    {
     "name": "stderr",
     "output_type": "stream",
     "text": [
      "/usr/local/lib/python3.9/site-packages/pymc3/sampling.py:1708: UserWarning: samples parameter is smaller than nchains times ndraws, some draws and/or chains may not be represented in the returned posterior predictive sample\n",
      "  warnings.warn(\n"
     ]
    },
    {
     "data": {
      "text/html": [
       "\n",
       "<style>\n",
       "    /* Turns off some styling */\n",
       "    progress {\n",
       "        /* gets rid of default border in Firefox and Opera. */\n",
       "        border: none;\n",
       "        /* Needs to be in here for Safari polyfill so background images work as expected. */\n",
       "        background-size: auto;\n",
       "    }\n",
       "    .progress-bar-interrupted, .progress-bar-interrupted::-webkit-progress-bar {\n",
       "        background: #F44336;\n",
       "    }\n",
       "</style>\n"
      ],
      "text/plain": [
       "<IPython.core.display.HTML object>"
      ]
     },
     "metadata": {},
     "output_type": "display_data"
    },
    {
     "data": {
      "text/html": [
       "\n",
       "    <div>\n",
       "      <progress value='10000' class='' max='10000' style='width:300px; height:20px; vertical-align: middle;'></progress>\n",
       "      100.00% [10000/10000 00:08<00:00]\n",
       "    </div>\n",
       "    "
      ],
      "text/plain": [
       "<IPython.core.display.HTML object>"
      ]
     },
     "metadata": {},
     "output_type": "display_data"
    }
   ],
   "source": [
    "new_ppc = pm.sample_posterior_predictive(trace, samples=10000, model=nano_model)"
   ]
  },
  {
   "cell_type": "code",
   "execution_count": 131,
   "id": "90320475",
   "metadata": {},
   "outputs": [],
   "source": [
    "sample = new_ppc['obs'][:,-1]"
   ]
  },
  {
   "cell_type": "code",
   "execution_count": 133,
   "id": "32b4a2de",
   "metadata": {},
   "outputs": [
    {
     "data": {
      "text/plain": [
       "array([16, 36])"
      ]
     },
     "execution_count": 133,
     "metadata": {},
     "output_type": "execute_result"
    }
   ],
   "source": [
    "pm.stats.hdi(sample)"
   ]
  },
  {
   "cell_type": "markdown",
   "id": "0b526383",
   "metadata": {},
   "source": [
    "# 3. Color Attraction for Oulema melanopus."
   ]
  },
  {
   "cell_type": "code",
   "execution_count": 185,
   "id": "9b2b964f",
   "metadata": {},
   "outputs": [
    {
     "data": {
      "text/plain": [
       "color      category\n",
       "insects       int64\n",
       "dtype: object"
      ]
     },
     "execution_count": 185,
     "metadata": {},
     "output_type": "execute_result"
    }
   ],
   "source": [
    "data=pd.DataFrame({'color':['Lemonyellow','Lemonyellow','Lemonyellow','Lemonyellow','Lemonyellow','Lemonyellow',\n",
    "       'White','White','White','White','White','White', \n",
    "       'Green','Green','Green','Green','Green','Green',\n",
    "       'Blue','Blue','Blue','Blue','Blue','Blue'],\n",
    "                   'insects':[45 ,59 ,48, 46 ,38 ,47,\n",
    "               21, 12, 14 ,17, 13 ,17,\n",
    "               16, 11, 20, 21, 14, 7,\n",
    "               37 ,32 ,15, 25, 39, 41]\n",
    "    \n",
    "})\n",
    "\n",
    "data['color']=data['color'].astype('category')\n",
    "\n"
   ]
  },
  {
   "cell_type": "code",
   "execution_count": 199,
   "id": "78a3d493",
   "metadata": {},
   "outputs": [],
   "source": [
    "n_subject=len(data['color'].unique())"
   ]
  },
  {
   "cell_type": "code",
   "execution_count": 187,
   "id": "ebf6032e",
   "metadata": {},
   "outputs": [
    {
     "data": {
      "text/html": [
       "<div>\n",
       "<style scoped>\n",
       "    .dataframe tbody tr th:only-of-type {\n",
       "        vertical-align: middle;\n",
       "    }\n",
       "\n",
       "    .dataframe tbody tr th {\n",
       "        vertical-align: top;\n",
       "    }\n",
       "\n",
       "    .dataframe thead th {\n",
       "        text-align: right;\n",
       "    }\n",
       "</style>\n",
       "<table border=\"1\" class=\"dataframe\">\n",
       "  <thead>\n",
       "    <tr style=\"text-align: right;\">\n",
       "      <th></th>\n",
       "      <th>insects</th>\n",
       "    </tr>\n",
       "    <tr>\n",
       "      <th>color</th>\n",
       "      <th></th>\n",
       "    </tr>\n",
       "  </thead>\n",
       "  <tbody>\n",
       "    <tr>\n",
       "      <th>Blue</th>\n",
       "      <td>31.500000</td>\n",
       "    </tr>\n",
       "    <tr>\n",
       "      <th>Green</th>\n",
       "      <td>14.833333</td>\n",
       "    </tr>\n",
       "    <tr>\n",
       "      <th>Lemonyellow</th>\n",
       "      <td>47.166667</td>\n",
       "    </tr>\n",
       "    <tr>\n",
       "      <th>White</th>\n",
       "      <td>15.666667</td>\n",
       "    </tr>\n",
       "  </tbody>\n",
       "</table>\n",
       "</div>"
      ],
      "text/plain": [
       "               insects\n",
       "color                 \n",
       "Blue         31.500000\n",
       "Green        14.833333\n",
       "Lemonyellow  47.166667\n",
       "White        15.666667"
      ]
     },
     "execution_count": 187,
     "metadata": {},
     "output_type": "execute_result"
    }
   ],
   "source": [
    "data.groupby('color').agg({'insects': 'mean'\n",
    "                          })\n"
   ]
  },
  {
   "cell_type": "code",
   "execution_count": 188,
   "id": "59599d7d",
   "metadata": {},
   "outputs": [
    {
     "data": {
      "text/html": [
       "<div>\n",
       "<style scoped>\n",
       "    .dataframe tbody tr th:only-of-type {\n",
       "        vertical-align: middle;\n",
       "    }\n",
       "\n",
       "    .dataframe tbody tr th {\n",
       "        vertical-align: top;\n",
       "    }\n",
       "\n",
       "    .dataframe thead th {\n",
       "        text-align: right;\n",
       "    }\n",
       "</style>\n",
       "<table border=\"1\" class=\"dataframe\">\n",
       "  <thead>\n",
       "    <tr style=\"text-align: right;\">\n",
       "      <th></th>\n",
       "      <th>insects</th>\n",
       "    </tr>\n",
       "    <tr>\n",
       "      <th>color</th>\n",
       "      <th></th>\n",
       "    </tr>\n",
       "  </thead>\n",
       "  <tbody>\n",
       "    <tr>\n",
       "      <th>Blue</th>\n",
       "      <td>98.300000</td>\n",
       "    </tr>\n",
       "    <tr>\n",
       "      <th>Green</th>\n",
       "      <td>28.566667</td>\n",
       "    </tr>\n",
       "    <tr>\n",
       "      <th>Lemonyellow</th>\n",
       "      <td>46.166667</td>\n",
       "    </tr>\n",
       "    <tr>\n",
       "      <th>White</th>\n",
       "      <td>11.066667</td>\n",
       "    </tr>\n",
       "  </tbody>\n",
       "</table>\n",
       "</div>"
      ],
      "text/plain": [
       "               insects\n",
       "color                 \n",
       "Blue         98.300000\n",
       "Green        28.566667\n",
       "Lemonyellow  46.166667\n",
       "White        11.066667"
      ]
     },
     "execution_count": 188,
     "metadata": {},
     "output_type": "execute_result"
    }
   ],
   "source": [
    "data.groupby('color').agg({'insects': 'var'\n",
    "                          })"
   ]
  },
  {
   "cell_type": "code",
   "execution_count": 193,
   "id": "14a1caaa",
   "metadata": {},
   "outputs": [],
   "source": [
    "mcmc=pm.Model()"
   ]
  },
  {
   "cell_type": "markdown",
   "id": "fcdeb94a",
   "metadata": {},
   "source": [
    "## Use MCMC software to conduct ANOVA analysis "
   ]
  },
  {
   "cell_type": "code",
   "execution_count": 194,
   "id": "135bf438",
   "metadata": {},
   "outputs": [
    {
     "ename": "TypeError",
     "evalue": "unsupported operand type(s) for *: 'FreeRV' and 'Categorical'",
     "output_type": "error",
     "traceback": [
      "\u001b[0;31m---------------------------------------------------------------------------\u001b[0m",
      "\u001b[0;31mTypeError\u001b[0m                                 Traceback (most recent call last)",
      "Input \u001b[0;32mIn [194]\u001b[0m, in \u001b[0;36m<cell line: 1>\u001b[0;34m()\u001b[0m\n\u001b[1;32m      7\u001b[0m white\u001b[38;5;241m=\u001b[39m pm\u001b[38;5;241m.\u001b[39mNormal(\u001b[38;5;124m'\u001b[39m\u001b[38;5;124mWhite\u001b[39m\u001b[38;5;124m'\u001b[39m, mu \u001b[38;5;241m=\u001b[39m \u001b[38;5;241m15.67\u001b[39m, sd\u001b[38;5;241m=\u001b[39m\u001b[38;5;241m11.07\u001b[39m)\n\u001b[1;32m      9\u001b[0m  \u001b[38;5;66;03m# Define likelihood\u001b[39;00m\n\u001b[1;32m     10\u001b[0m likelihood \u001b[38;5;241m=\u001b[39m pm\u001b[38;5;241m.\u001b[39mNormal(\u001b[38;5;124m'\u001b[39m\u001b[38;5;124mcolor\u001b[39m\u001b[38;5;124m'\u001b[39m, \n\u001b[0;32m---> 11\u001b[0m                        mu \u001b[38;5;241m=\u001b[39m \u001b[43mblue\u001b[49m\u001b[38;5;241;43m*\u001b[39;49m\u001b[43mdata\u001b[49m\u001b[43m[\u001b[49m\u001b[38;5;124;43m'\u001b[39;49m\u001b[38;5;124;43mcolor\u001b[39;49m\u001b[38;5;124;43m'\u001b[39;49m\u001b[43m]\u001b[49m\u001b[43m[\u001b[49m\u001b[43mdata\u001b[49m\u001b[43m[\u001b[49m\u001b[38;5;124;43m'\u001b[39;49m\u001b[38;5;124;43mcolor\u001b[39;49m\u001b[38;5;124;43m'\u001b[39;49m\u001b[43m]\u001b[49m\u001b[38;5;241;43m==\u001b[39;49m\u001b[38;5;124;43m'\u001b[39;49m\u001b[38;5;124;43mBlue\u001b[39;49m\u001b[38;5;124;43m'\u001b[39;49m\u001b[43m]\u001b[49m \u001b[38;5;241m+\u001b[39m green\u001b[38;5;241m*\u001b[39mdata[\u001b[38;5;124m'\u001b[39m\u001b[38;5;124mcolor\u001b[39m\u001b[38;5;124m'\u001b[39m][data[\u001b[38;5;124m'\u001b[39m\u001b[38;5;124mcolor\u001b[39m\u001b[38;5;124m'\u001b[39m]\u001b[38;5;241m==\u001b[39m\u001b[38;5;124m'\u001b[39m\u001b[38;5;124mGreen\u001b[39m\u001b[38;5;124m'\u001b[39m]\u001b[38;5;241m+\u001b[39m \n\u001b[1;32m     12\u001b[0m                        yellow\u001b[38;5;241m*\u001b[39mdata[\u001b[38;5;124m'\u001b[39m\u001b[38;5;124mcolor\u001b[39m\u001b[38;5;124m'\u001b[39m][data[\u001b[38;5;124m'\u001b[39m\u001b[38;5;124mcolor\u001b[39m\u001b[38;5;124m'\u001b[39m]\u001b[38;5;241m==\u001b[39m\u001b[38;5;124m'\u001b[39m\u001b[38;5;124mLemonyellow\u001b[39m\u001b[38;5;124m'\u001b[39m]\u001b[38;5;241m+\u001b[39mwhite\u001b[38;5;241m*\u001b[39mdata[\u001b[38;5;124m'\u001b[39m\u001b[38;5;124mcolor\u001b[39m\u001b[38;5;124m'\u001b[39m][data[\u001b[38;5;124m'\u001b[39m\u001b[38;5;124mcolor\u001b[39m\u001b[38;5;124m'\u001b[39m]\u001b[38;5;241m==\u001b[39m\u001b[38;5;124m'\u001b[39m\u001b[38;5;124mWhite\u001b[39m\u001b[38;5;124m'\u001b[39m],\n\u001b[1;32m     13\u001b[0m                        sd\u001b[38;5;241m=\u001b[39msigma, \n\u001b[1;32m     14\u001b[0m                        observed\u001b[38;5;241m=\u001b[39mdata[\u001b[38;5;124m'\u001b[39m\u001b[38;5;124minsects\u001b[39m\u001b[38;5;124m'\u001b[39m])\n\u001b[1;32m     16\u001b[0m trace\u001b[38;5;241m=\u001b[39mpm\u001b[38;5;241m.\u001b[39msample(\u001b[38;5;241m5000\u001b[39m, model\u001b[38;5;241m=\u001b[39mmcmc)\n",
      "File \u001b[0;32m/usr/local/lib/python3.9/site-packages/pandas/core/ops/common.py:70\u001b[0m, in \u001b[0;36m_unpack_zerodim_and_defer.<locals>.new_method\u001b[0;34m(self, other)\u001b[0m\n\u001b[1;32m     66\u001b[0m             \u001b[38;5;28;01mreturn\u001b[39;00m \u001b[38;5;28mNotImplemented\u001b[39m\n\u001b[1;32m     68\u001b[0m other \u001b[38;5;241m=\u001b[39m item_from_zerodim(other)\n\u001b[0;32m---> 70\u001b[0m \u001b[38;5;28;01mreturn\u001b[39;00m \u001b[43mmethod\u001b[49m\u001b[43m(\u001b[49m\u001b[38;5;28;43mself\u001b[39;49m\u001b[43m,\u001b[49m\u001b[43m \u001b[49m\u001b[43mother\u001b[49m\u001b[43m)\u001b[49m\n",
      "File \u001b[0;32m/usr/local/lib/python3.9/site-packages/pandas/core/arraylike.py:120\u001b[0m, in \u001b[0;36mOpsMixin.__rmul__\u001b[0;34m(self, other)\u001b[0m\n\u001b[1;32m    118\u001b[0m \u001b[38;5;129m@unpack_zerodim_and_defer\u001b[39m(\u001b[38;5;124m\"\u001b[39m\u001b[38;5;124m__rmul__\u001b[39m\u001b[38;5;124m\"\u001b[39m)\n\u001b[1;32m    119\u001b[0m \u001b[38;5;28;01mdef\u001b[39;00m \u001b[38;5;21m__rmul__\u001b[39m(\u001b[38;5;28mself\u001b[39m, other):\n\u001b[0;32m--> 120\u001b[0m     \u001b[38;5;28;01mreturn\u001b[39;00m \u001b[38;5;28;43mself\u001b[39;49m\u001b[38;5;241;43m.\u001b[39;49m\u001b[43m_arith_method\u001b[49m\u001b[43m(\u001b[49m\u001b[43mother\u001b[49m\u001b[43m,\u001b[49m\u001b[43m \u001b[49m\u001b[43mroperator\u001b[49m\u001b[38;5;241;43m.\u001b[39;49m\u001b[43mrmul\u001b[49m\u001b[43m)\u001b[49m\n",
      "File \u001b[0;32m/usr/local/lib/python3.9/site-packages/pandas/core/series.py:5639\u001b[0m, in \u001b[0;36mSeries._arith_method\u001b[0;34m(self, other, op)\u001b[0m\n\u001b[1;32m   5637\u001b[0m \u001b[38;5;28;01mdef\u001b[39;00m \u001b[38;5;21m_arith_method\u001b[39m(\u001b[38;5;28mself\u001b[39m, other, op):\n\u001b[1;32m   5638\u001b[0m     \u001b[38;5;28mself\u001b[39m, other \u001b[38;5;241m=\u001b[39m ops\u001b[38;5;241m.\u001b[39malign_method_SERIES(\u001b[38;5;28mself\u001b[39m, other)\n\u001b[0;32m-> 5639\u001b[0m     \u001b[38;5;28;01mreturn\u001b[39;00m \u001b[43mbase\u001b[49m\u001b[38;5;241;43m.\u001b[39;49m\u001b[43mIndexOpsMixin\u001b[49m\u001b[38;5;241;43m.\u001b[39;49m\u001b[43m_arith_method\u001b[49m\u001b[43m(\u001b[49m\u001b[38;5;28;43mself\u001b[39;49m\u001b[43m,\u001b[49m\u001b[43m \u001b[49m\u001b[43mother\u001b[49m\u001b[43m,\u001b[49m\u001b[43m \u001b[49m\u001b[43mop\u001b[49m\u001b[43m)\u001b[49m\n",
      "File \u001b[0;32m/usr/local/lib/python3.9/site-packages/pandas/core/base.py:1295\u001b[0m, in \u001b[0;36mIndexOpsMixin._arith_method\u001b[0;34m(self, other, op)\u001b[0m\n\u001b[1;32m   1292\u001b[0m rvalues \u001b[38;5;241m=\u001b[39m ensure_wrapped_if_datetimelike(rvalues)\n\u001b[1;32m   1294\u001b[0m \u001b[38;5;28;01mwith\u001b[39;00m np\u001b[38;5;241m.\u001b[39merrstate(\u001b[38;5;28mall\u001b[39m\u001b[38;5;241m=\u001b[39m\u001b[38;5;124m\"\u001b[39m\u001b[38;5;124mignore\u001b[39m\u001b[38;5;124m\"\u001b[39m):\n\u001b[0;32m-> 1295\u001b[0m     result \u001b[38;5;241m=\u001b[39m \u001b[43mops\u001b[49m\u001b[38;5;241;43m.\u001b[39;49m\u001b[43marithmetic_op\u001b[49m\u001b[43m(\u001b[49m\u001b[43mlvalues\u001b[49m\u001b[43m,\u001b[49m\u001b[43m \u001b[49m\u001b[43mrvalues\u001b[49m\u001b[43m,\u001b[49m\u001b[43m \u001b[49m\u001b[43mop\u001b[49m\u001b[43m)\u001b[49m\n\u001b[1;32m   1297\u001b[0m \u001b[38;5;28;01mreturn\u001b[39;00m \u001b[38;5;28mself\u001b[39m\u001b[38;5;241m.\u001b[39m_construct_result(result, name\u001b[38;5;241m=\u001b[39mres_name)\n",
      "File \u001b[0;32m/usr/local/lib/python3.9/site-packages/pandas/core/ops/array_ops.py:216\u001b[0m, in \u001b[0;36marithmetic_op\u001b[0;34m(left, right, op)\u001b[0m\n\u001b[1;32m    203\u001b[0m \u001b[38;5;66;03m# NB: We assume that extract_array and ensure_wrapped_if_datetimelike\u001b[39;00m\n\u001b[1;32m    204\u001b[0m \u001b[38;5;66;03m#  have already been called on `left` and `right`,\u001b[39;00m\n\u001b[1;32m    205\u001b[0m \u001b[38;5;66;03m#  and `maybe_prepare_scalar_for_op` has already been called on `right`\u001b[39;00m\n\u001b[1;32m    206\u001b[0m \u001b[38;5;66;03m# We need to special-case datetime64/timedelta64 dtypes (e.g. because numpy\u001b[39;00m\n\u001b[1;32m    207\u001b[0m \u001b[38;5;66;03m# casts integer dtypes to timedelta64 when operating with timedelta64 - GH#22390)\u001b[39;00m\n\u001b[1;32m    209\u001b[0m \u001b[38;5;28;01mif\u001b[39;00m (\n\u001b[1;32m    210\u001b[0m     should_extension_dispatch(left, right)\n\u001b[1;32m    211\u001b[0m     \u001b[38;5;129;01mor\u001b[39;00m \u001b[38;5;28misinstance\u001b[39m(right, (Timedelta, BaseOffset, Timestamp))\n\u001b[0;32m   (...)\u001b[0m\n\u001b[1;32m    214\u001b[0m     \u001b[38;5;66;03m# Timedelta/Timestamp and other custom scalars are included in the check\u001b[39;00m\n\u001b[1;32m    215\u001b[0m     \u001b[38;5;66;03m# because numexpr will fail on it, see GH#31457\u001b[39;00m\n\u001b[0;32m--> 216\u001b[0m     res_values \u001b[38;5;241m=\u001b[39m \u001b[43mop\u001b[49m\u001b[43m(\u001b[49m\u001b[43mleft\u001b[49m\u001b[43m,\u001b[49m\u001b[43m \u001b[49m\u001b[43mright\u001b[49m\u001b[43m)\u001b[49m\n\u001b[1;32m    217\u001b[0m \u001b[38;5;28;01melse\u001b[39;00m:\n\u001b[1;32m    218\u001b[0m     \u001b[38;5;66;03m# TODO we should handle EAs consistently and move this check before the if/else\u001b[39;00m\n\u001b[1;32m    219\u001b[0m     \u001b[38;5;66;03m# (https://github.com/pandas-dev/pandas/issues/41165)\u001b[39;00m\n\u001b[1;32m    220\u001b[0m     _bool_arith_check(op, left, right)\n",
      "File \u001b[0;32m/usr/local/lib/python3.9/site-packages/pandas/core/roperator.py:17\u001b[0m, in \u001b[0;36mrmul\u001b[0;34m(left, right)\u001b[0m\n\u001b[1;32m     16\u001b[0m \u001b[38;5;28;01mdef\u001b[39;00m \u001b[38;5;21mrmul\u001b[39m(left, right):\n\u001b[0;32m---> 17\u001b[0m     \u001b[38;5;28;01mreturn\u001b[39;00m \u001b[43mright\u001b[49m\u001b[43m \u001b[49m\u001b[38;5;241;43m*\u001b[39;49m\u001b[43m \u001b[49m\u001b[43mleft\u001b[49m\n",
      "\u001b[0;31mTypeError\u001b[0m: unsupported operand type(s) for *: 'FreeRV' and 'Categorical'"
     ]
    }
   ],
   "source": [
    "with mcmc:\n",
    "    \n",
    "    sigma = pm.Normal('sigma', 0,1)\n",
    "    yellow = pm.Normal('Lemonyellow', mu = 47.17, sd=98.3)\n",
    "    blue = pm.Normal('Blue', mu = 31.5, sd=28.56)\n",
    "    green= pm.Normal('Green', mu = 14.8, sd=46.16)\n",
    "    white= pm.Normal('White', mu = 15.67, sd=11.07)\n",
    "\n",
    "    \n",
    "     # Define likelihood\n",
    "    likelihood = pm.Normal('color', \n",
    "                           mu = blue*data['color'][data['color']=='Blue'] + green*data['color'][data['color']=='Green']+ \n",
    "     12                        yellow*data['color'][data['color']=='Lemonyellow']+white*data['color'][data['color']=='White'] ,\n",
    "                           sd=sigma, \n",
    "                           observed=data['insects'])\n",
    "    \n",
    "    trace=pm.sample(5000, model=mcmc)"
   ]
  },
  {
   "cell_type": "markdown",
   "id": "4da96fc2",
   "metadata": {},
   "source": [
    "## state your conclusions "
   ]
  },
  {
   "cell_type": "markdown",
   "id": "01b59f2d",
   "metadata": {},
   "source": [
    "Based on the above analysis, the color does affect the attractiveness in insects."
   ]
  },
  {
   "cell_type": "code",
   "execution_count": null,
   "id": "cfb68287",
   "metadata": {},
   "outputs": [],
   "source": []
  }
 ],
 "metadata": {
  "kernelspec": {
   "display_name": "Python 3 (ipykernel)",
   "language": "python",
   "name": "python3"
  },
  "language_info": {
   "codemirror_mode": {
    "name": "ipython",
    "version": 3
   },
   "file_extension": ".py",
   "mimetype": "text/x-python",
   "name": "python",
   "nbconvert_exporter": "python",
   "pygments_lexer": "ipython3",
   "version": "3.9.10"
  }
 },
 "nbformat": 4,
 "nbformat_minor": 5
}
