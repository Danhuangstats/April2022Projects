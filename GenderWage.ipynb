{
 "cells": [
  {
   "cell_type": "code",
   "execution_count": 1,
   "id": "ada14f03",
   "metadata": {},
   "outputs": [],
   "source": [
    "import pandas as pd \n",
    "import numpy as np"
   ]
  },
  {
   "cell_type": "code",
   "execution_count": 2,
   "id": "27933f4d",
   "metadata": {},
   "outputs": [],
   "source": [
    "raw_data=pd.read_csv('./dat')"
   ]
  },
  {
   "cell_type": "code",
   "execution_count": 3,
   "id": "6cdb662c",
   "metadata": {},
   "outputs": [
    {
     "data": {
      "text/html": [
       "<div>\n",
       "<style scoped>\n",
       "    .dataframe tbody tr th:only-of-type {\n",
       "        vertical-align: middle;\n",
       "    }\n",
       "\n",
       "    .dataframe tbody tr th {\n",
       "        vertical-align: top;\n",
       "    }\n",
       "\n",
       "    .dataframe thead th {\n",
       "        text-align: right;\n",
       "    }\n",
       "</style>\n",
       "<table border=\"1\" class=\"dataframe\">\n",
       "  <thead>\n",
       "    <tr style=\"text-align: right;\">\n",
       "      <th></th>\n",
       "      <th>YEAR</th>\n",
       "      <th>SAMPLE</th>\n",
       "      <th>SERIAL</th>\n",
       "      <th>CBSERIAL</th>\n",
       "      <th>HHWT</th>\n",
       "      <th>CLUSTER</th>\n",
       "      <th>STRATA</th>\n",
       "      <th>GQ</th>\n",
       "      <th>RENTGRS</th>\n",
       "      <th>PERNUM</th>\n",
       "      <th>...</th>\n",
       "      <th>SEX</th>\n",
       "      <th>AGE</th>\n",
       "      <th>MARST</th>\n",
       "      <th>GRADEATT</th>\n",
       "      <th>GRADEATTD</th>\n",
       "      <th>DEGFIELD</th>\n",
       "      <th>DEGFIELDD</th>\n",
       "      <th>OCC</th>\n",
       "      <th>IND</th>\n",
       "      <th>INCTOT</th>\n",
       "    </tr>\n",
       "  </thead>\n",
       "  <tbody>\n",
       "    <tr>\n",
       "      <th>0</th>\n",
       "      <td>2019</td>\n",
       "      <td>201901</td>\n",
       "      <td>1</td>\n",
       "      <td>2019010000088</td>\n",
       "      <td>11.0</td>\n",
       "      <td>2019000000011</td>\n",
       "      <td>220001</td>\n",
       "      <td>4</td>\n",
       "      <td>0</td>\n",
       "      <td>1</td>\n",
       "      <td>...</td>\n",
       "      <td>1</td>\n",
       "      <td>39</td>\n",
       "      <td>6</td>\n",
       "      <td>0</td>\n",
       "      <td>0</td>\n",
       "      <td>0</td>\n",
       "      <td>0</td>\n",
       "      <td>0</td>\n",
       "      <td>0</td>\n",
       "      <td>9000</td>\n",
       "    </tr>\n",
       "    <tr>\n",
       "      <th>1</th>\n",
       "      <td>2019</td>\n",
       "      <td>201901</td>\n",
       "      <td>2</td>\n",
       "      <td>2019010000096</td>\n",
       "      <td>70.0</td>\n",
       "      <td>2019000000021</td>\n",
       "      <td>100001</td>\n",
       "      <td>3</td>\n",
       "      <td>0</td>\n",
       "      <td>1</td>\n",
       "      <td>...</td>\n",
       "      <td>2</td>\n",
       "      <td>21</td>\n",
       "      <td>6</td>\n",
       "      <td>0</td>\n",
       "      <td>0</td>\n",
       "      <td>0</td>\n",
       "      <td>0</td>\n",
       "      <td>0</td>\n",
       "      <td>0</td>\n",
       "      <td>150</td>\n",
       "    </tr>\n",
       "    <tr>\n",
       "      <th>2</th>\n",
       "      <td>2019</td>\n",
       "      <td>201901</td>\n",
       "      <td>3</td>\n",
       "      <td>2019010000153</td>\n",
       "      <td>20.0</td>\n",
       "      <td>2019000000031</td>\n",
       "      <td>110001</td>\n",
       "      <td>4</td>\n",
       "      <td>0</td>\n",
       "      <td>1</td>\n",
       "      <td>...</td>\n",
       "      <td>1</td>\n",
       "      <td>19</td>\n",
       "      <td>6</td>\n",
       "      <td>6</td>\n",
       "      <td>60</td>\n",
       "      <td>0</td>\n",
       "      <td>0</td>\n",
       "      <td>5240</td>\n",
       "      <td>9160</td>\n",
       "      <td>1400</td>\n",
       "    </tr>\n",
       "    <tr>\n",
       "      <th>3</th>\n",
       "      <td>2019</td>\n",
       "      <td>201901</td>\n",
       "      <td>4</td>\n",
       "      <td>2019010000198</td>\n",
       "      <td>79.0</td>\n",
       "      <td>2019000000041</td>\n",
       "      <td>110001</td>\n",
       "      <td>3</td>\n",
       "      <td>0</td>\n",
       "      <td>1</td>\n",
       "      <td>...</td>\n",
       "      <td>1</td>\n",
       "      <td>77</td>\n",
       "      <td>5</td>\n",
       "      <td>0</td>\n",
       "      <td>0</td>\n",
       "      <td>0</td>\n",
       "      <td>0</td>\n",
       "      <td>0</td>\n",
       "      <td>0</td>\n",
       "      <td>22700</td>\n",
       "    </tr>\n",
       "    <tr>\n",
       "      <th>4</th>\n",
       "      <td>2019</td>\n",
       "      <td>201901</td>\n",
       "      <td>5</td>\n",
       "      <td>2019010000205</td>\n",
       "      <td>53.0</td>\n",
       "      <td>2019000000051</td>\n",
       "      <td>270101</td>\n",
       "      <td>3</td>\n",
       "      <td>0</td>\n",
       "      <td>1</td>\n",
       "      <td>...</td>\n",
       "      <td>1</td>\n",
       "      <td>41</td>\n",
       "      <td>3</td>\n",
       "      <td>0</td>\n",
       "      <td>0</td>\n",
       "      <td>0</td>\n",
       "      <td>0</td>\n",
       "      <td>0</td>\n",
       "      <td>0</td>\n",
       "      <td>0</td>\n",
       "    </tr>\n",
       "    <tr>\n",
       "      <th>...</th>\n",
       "      <td>...</td>\n",
       "      <td>...</td>\n",
       "      <td>...</td>\n",
       "      <td>...</td>\n",
       "      <td>...</td>\n",
       "      <td>...</td>\n",
       "      <td>...</td>\n",
       "      <td>...</td>\n",
       "      <td>...</td>\n",
       "      <td>...</td>\n",
       "      <td>...</td>\n",
       "      <td>...</td>\n",
       "      <td>...</td>\n",
       "      <td>...</td>\n",
       "      <td>...</td>\n",
       "      <td>...</td>\n",
       "      <td>...</td>\n",
       "      <td>...</td>\n",
       "      <td>...</td>\n",
       "      <td>...</td>\n",
       "      <td>...</td>\n",
       "    </tr>\n",
       "    <tr>\n",
       "      <th>3239548</th>\n",
       "      <td>2019</td>\n",
       "      <td>201901</td>\n",
       "      <td>1428035</td>\n",
       "      <td>2019001411842</td>\n",
       "      <td>29.0</td>\n",
       "      <td>2019014280351</td>\n",
       "      <td>50056</td>\n",
       "      <td>1</td>\n",
       "      <td>0</td>\n",
       "      <td>1</td>\n",
       "      <td>...</td>\n",
       "      <td>2</td>\n",
       "      <td>63</td>\n",
       "      <td>5</td>\n",
       "      <td>0</td>\n",
       "      <td>0</td>\n",
       "      <td>0</td>\n",
       "      <td>0</td>\n",
       "      <td>5150</td>\n",
       "      <td>580</td>\n",
       "      <td>117000</td>\n",
       "    </tr>\n",
       "    <tr>\n",
       "      <th>3239549</th>\n",
       "      <td>2019</td>\n",
       "      <td>201901</td>\n",
       "      <td>1428035</td>\n",
       "      <td>2019001411842</td>\n",
       "      <td>29.0</td>\n",
       "      <td>2019014280351</td>\n",
       "      <td>50056</td>\n",
       "      <td>1</td>\n",
       "      <td>0</td>\n",
       "      <td>2</td>\n",
       "      <td>...</td>\n",
       "      <td>1</td>\n",
       "      <td>45</td>\n",
       "      <td>4</td>\n",
       "      <td>0</td>\n",
       "      <td>0</td>\n",
       "      <td>0</td>\n",
       "      <td>0</td>\n",
       "      <td>9620</td>\n",
       "      <td>4795</td>\n",
       "      <td>14000</td>\n",
       "    </tr>\n",
       "    <tr>\n",
       "      <th>3239550</th>\n",
       "      <td>2019</td>\n",
       "      <td>201901</td>\n",
       "      <td>1428036</td>\n",
       "      <td>2019001412021</td>\n",
       "      <td>51.0</td>\n",
       "      <td>2019014280361</td>\n",
       "      <td>20056</td>\n",
       "      <td>1</td>\n",
       "      <td>0</td>\n",
       "      <td>1</td>\n",
       "      <td>...</td>\n",
       "      <td>2</td>\n",
       "      <td>85</td>\n",
       "      <td>5</td>\n",
       "      <td>0</td>\n",
       "      <td>0</td>\n",
       "      <td>0</td>\n",
       "      <td>0</td>\n",
       "      <td>0</td>\n",
       "      <td>0</td>\n",
       "      <td>18500</td>\n",
       "    </tr>\n",
       "    <tr>\n",
       "      <th>3239551</th>\n",
       "      <td>2019</td>\n",
       "      <td>201901</td>\n",
       "      <td>1428037</td>\n",
       "      <td>2019001412362</td>\n",
       "      <td>65.0</td>\n",
       "      <td>2019014280371</td>\n",
       "      <td>50056</td>\n",
       "      <td>1</td>\n",
       "      <td>0</td>\n",
       "      <td>1</td>\n",
       "      <td>...</td>\n",
       "      <td>2</td>\n",
       "      <td>67</td>\n",
       "      <td>1</td>\n",
       "      <td>0</td>\n",
       "      <td>0</td>\n",
       "      <td>23</td>\n",
       "      <td>2309</td>\n",
       "      <td>0</td>\n",
       "      <td>0</td>\n",
       "      <td>49900</td>\n",
       "    </tr>\n",
       "    <tr>\n",
       "      <th>3239552</th>\n",
       "      <td>2019</td>\n",
       "      <td>201901</td>\n",
       "      <td>1428037</td>\n",
       "      <td>2019001412362</td>\n",
       "      <td>65.0</td>\n",
       "      <td>2019014280371</td>\n",
       "      <td>50056</td>\n",
       "      <td>1</td>\n",
       "      <td>0</td>\n",
       "      <td>2</td>\n",
       "      <td>...</td>\n",
       "      <td>1</td>\n",
       "      <td>67</td>\n",
       "      <td>1</td>\n",
       "      <td>0</td>\n",
       "      <td>0</td>\n",
       "      <td>0</td>\n",
       "      <td>0</td>\n",
       "      <td>0</td>\n",
       "      <td>0</td>\n",
       "      <td>8900</td>\n",
       "    </tr>\n",
       "  </tbody>\n",
       "</table>\n",
       "<p>3239553 rows × 21 columns</p>\n",
       "</div>"
      ],
      "text/plain": [
       "         YEAR  SAMPLE   SERIAL       CBSERIAL  HHWT        CLUSTER  STRATA  \\\n",
       "0        2019  201901        1  2019010000088  11.0  2019000000011  220001   \n",
       "1        2019  201901        2  2019010000096  70.0  2019000000021  100001   \n",
       "2        2019  201901        3  2019010000153  20.0  2019000000031  110001   \n",
       "3        2019  201901        4  2019010000198  79.0  2019000000041  110001   \n",
       "4        2019  201901        5  2019010000205  53.0  2019000000051  270101   \n",
       "...       ...     ...      ...            ...   ...            ...     ...   \n",
       "3239548  2019  201901  1428035  2019001411842  29.0  2019014280351   50056   \n",
       "3239549  2019  201901  1428035  2019001411842  29.0  2019014280351   50056   \n",
       "3239550  2019  201901  1428036  2019001412021  51.0  2019014280361   20056   \n",
       "3239551  2019  201901  1428037  2019001412362  65.0  2019014280371   50056   \n",
       "3239552  2019  201901  1428037  2019001412362  65.0  2019014280371   50056   \n",
       "\n",
       "         GQ  RENTGRS  PERNUM  ...  SEX  AGE  MARST  GRADEATT  GRADEATTD  \\\n",
       "0         4        0       1  ...    1   39      6         0          0   \n",
       "1         3        0       1  ...    2   21      6         0          0   \n",
       "2         4        0       1  ...    1   19      6         6         60   \n",
       "3         3        0       1  ...    1   77      5         0          0   \n",
       "4         3        0       1  ...    1   41      3         0          0   \n",
       "...      ..      ...     ...  ...  ...  ...    ...       ...        ...   \n",
       "3239548   1        0       1  ...    2   63      5         0          0   \n",
       "3239549   1        0       2  ...    1   45      4         0          0   \n",
       "3239550   1        0       1  ...    2   85      5         0          0   \n",
       "3239551   1        0       1  ...    2   67      1         0          0   \n",
       "3239552   1        0       2  ...    1   67      1         0          0   \n",
       "\n",
       "         DEGFIELD  DEGFIELDD   OCC   IND  INCTOT  \n",
       "0               0          0     0     0    9000  \n",
       "1               0          0     0     0     150  \n",
       "2               0          0  5240  9160    1400  \n",
       "3               0          0     0     0   22700  \n",
       "4               0          0     0     0       0  \n",
       "...           ...        ...   ...   ...     ...  \n",
       "3239548         0          0  5150   580  117000  \n",
       "3239549         0          0  9620  4795   14000  \n",
       "3239550         0          0     0     0   18500  \n",
       "3239551        23       2309     0     0   49900  \n",
       "3239552         0          0     0     0    8900  \n",
       "\n",
       "[3239553 rows x 21 columns]"
      ]
     },
     "execution_count": 3,
     "metadata": {},
     "output_type": "execute_result"
    }
   ],
   "source": [
    "raw_data"
   ]
  },
  {
   "cell_type": "code",
   "execution_count": 6,
   "id": "71043700",
   "metadata": {},
   "outputs": [],
   "source": [
    "raw_data=raw_data.drop_duplicates(subset=['SERIAL'])"
   ]
  },
  {
   "cell_type": "code",
   "execution_count": 7,
   "id": "44ec787e",
   "metadata": {},
   "outputs": [],
   "source": [
    "raw_data=raw_data.loc[raw_data['INCTOT']>=0]"
   ]
  },
  {
   "cell_type": "code",
   "execution_count": 8,
   "id": "4e9eacca",
   "metadata": {},
   "outputs": [
    {
     "data": {
      "text/html": [
       "<div>\n",
       "<style scoped>\n",
       "    .dataframe tbody tr th:only-of-type {\n",
       "        vertical-align: middle;\n",
       "    }\n",
       "\n",
       "    .dataframe tbody tr th {\n",
       "        vertical-align: top;\n",
       "    }\n",
       "\n",
       "    .dataframe thead th {\n",
       "        text-align: right;\n",
       "    }\n",
       "</style>\n",
       "<table border=\"1\" class=\"dataframe\">\n",
       "  <thead>\n",
       "    <tr style=\"text-align: right;\">\n",
       "      <th></th>\n",
       "      <th>YEAR</th>\n",
       "      <th>SAMPLE</th>\n",
       "      <th>SERIAL</th>\n",
       "      <th>CBSERIAL</th>\n",
       "      <th>HHWT</th>\n",
       "      <th>CLUSTER</th>\n",
       "      <th>STRATA</th>\n",
       "      <th>GQ</th>\n",
       "      <th>RENTGRS</th>\n",
       "      <th>PERNUM</th>\n",
       "      <th>...</th>\n",
       "      <th>SEX</th>\n",
       "      <th>AGE</th>\n",
       "      <th>MARST</th>\n",
       "      <th>GRADEATT</th>\n",
       "      <th>GRADEATTD</th>\n",
       "      <th>DEGFIELD</th>\n",
       "      <th>DEGFIELDD</th>\n",
       "      <th>OCC</th>\n",
       "      <th>IND</th>\n",
       "      <th>INCTOT</th>\n",
       "    </tr>\n",
       "  </thead>\n",
       "  <tbody>\n",
       "    <tr>\n",
       "      <th>0</th>\n",
       "      <td>2019</td>\n",
       "      <td>201901</td>\n",
       "      <td>1</td>\n",
       "      <td>2019010000088</td>\n",
       "      <td>11.0</td>\n",
       "      <td>2019000000011</td>\n",
       "      <td>220001</td>\n",
       "      <td>4</td>\n",
       "      <td>0</td>\n",
       "      <td>1</td>\n",
       "      <td>...</td>\n",
       "      <td>1</td>\n",
       "      <td>39</td>\n",
       "      <td>6</td>\n",
       "      <td>0</td>\n",
       "      <td>0</td>\n",
       "      <td>0</td>\n",
       "      <td>0</td>\n",
       "      <td>0</td>\n",
       "      <td>0</td>\n",
       "      <td>9000</td>\n",
       "    </tr>\n",
       "    <tr>\n",
       "      <th>1</th>\n",
       "      <td>2019</td>\n",
       "      <td>201901</td>\n",
       "      <td>2</td>\n",
       "      <td>2019010000096</td>\n",
       "      <td>70.0</td>\n",
       "      <td>2019000000021</td>\n",
       "      <td>100001</td>\n",
       "      <td>3</td>\n",
       "      <td>0</td>\n",
       "      <td>1</td>\n",
       "      <td>...</td>\n",
       "      <td>2</td>\n",
       "      <td>21</td>\n",
       "      <td>6</td>\n",
       "      <td>0</td>\n",
       "      <td>0</td>\n",
       "      <td>0</td>\n",
       "      <td>0</td>\n",
       "      <td>0</td>\n",
       "      <td>0</td>\n",
       "      <td>150</td>\n",
       "    </tr>\n",
       "    <tr>\n",
       "      <th>2</th>\n",
       "      <td>2019</td>\n",
       "      <td>201901</td>\n",
       "      <td>3</td>\n",
       "      <td>2019010000153</td>\n",
       "      <td>20.0</td>\n",
       "      <td>2019000000031</td>\n",
       "      <td>110001</td>\n",
       "      <td>4</td>\n",
       "      <td>0</td>\n",
       "      <td>1</td>\n",
       "      <td>...</td>\n",
       "      <td>1</td>\n",
       "      <td>19</td>\n",
       "      <td>6</td>\n",
       "      <td>6</td>\n",
       "      <td>60</td>\n",
       "      <td>0</td>\n",
       "      <td>0</td>\n",
       "      <td>5240</td>\n",
       "      <td>9160</td>\n",
       "      <td>1400</td>\n",
       "    </tr>\n",
       "    <tr>\n",
       "      <th>3</th>\n",
       "      <td>2019</td>\n",
       "      <td>201901</td>\n",
       "      <td>4</td>\n",
       "      <td>2019010000198</td>\n",
       "      <td>79.0</td>\n",
       "      <td>2019000000041</td>\n",
       "      <td>110001</td>\n",
       "      <td>3</td>\n",
       "      <td>0</td>\n",
       "      <td>1</td>\n",
       "      <td>...</td>\n",
       "      <td>1</td>\n",
       "      <td>77</td>\n",
       "      <td>5</td>\n",
       "      <td>0</td>\n",
       "      <td>0</td>\n",
       "      <td>0</td>\n",
       "      <td>0</td>\n",
       "      <td>0</td>\n",
       "      <td>0</td>\n",
       "      <td>22700</td>\n",
       "    </tr>\n",
       "    <tr>\n",
       "      <th>4</th>\n",
       "      <td>2019</td>\n",
       "      <td>201901</td>\n",
       "      <td>5</td>\n",
       "      <td>2019010000205</td>\n",
       "      <td>53.0</td>\n",
       "      <td>2019000000051</td>\n",
       "      <td>270101</td>\n",
       "      <td>3</td>\n",
       "      <td>0</td>\n",
       "      <td>1</td>\n",
       "      <td>...</td>\n",
       "      <td>1</td>\n",
       "      <td>41</td>\n",
       "      <td>3</td>\n",
       "      <td>0</td>\n",
       "      <td>0</td>\n",
       "      <td>0</td>\n",
       "      <td>0</td>\n",
       "      <td>0</td>\n",
       "      <td>0</td>\n",
       "      <td>0</td>\n",
       "    </tr>\n",
       "    <tr>\n",
       "      <th>...</th>\n",
       "      <td>...</td>\n",
       "      <td>...</td>\n",
       "      <td>...</td>\n",
       "      <td>...</td>\n",
       "      <td>...</td>\n",
       "      <td>...</td>\n",
       "      <td>...</td>\n",
       "      <td>...</td>\n",
       "      <td>...</td>\n",
       "      <td>...</td>\n",
       "      <td>...</td>\n",
       "      <td>...</td>\n",
       "      <td>...</td>\n",
       "      <td>...</td>\n",
       "      <td>...</td>\n",
       "      <td>...</td>\n",
       "      <td>...</td>\n",
       "      <td>...</td>\n",
       "      <td>...</td>\n",
       "      <td>...</td>\n",
       "      <td>...</td>\n",
       "    </tr>\n",
       "    <tr>\n",
       "      <th>3239537</th>\n",
       "      <td>2019</td>\n",
       "      <td>201901</td>\n",
       "      <td>1428033</td>\n",
       "      <td>2019001410371</td>\n",
       "      <td>14.0</td>\n",
       "      <td>2019014280331</td>\n",
       "      <td>40056</td>\n",
       "      <td>1</td>\n",
       "      <td>0</td>\n",
       "      <td>1</td>\n",
       "      <td>...</td>\n",
       "      <td>1</td>\n",
       "      <td>33</td>\n",
       "      <td>1</td>\n",
       "      <td>0</td>\n",
       "      <td>0</td>\n",
       "      <td>49</td>\n",
       "      <td>4901</td>\n",
       "      <td>110</td>\n",
       "      <td>9370</td>\n",
       "      <td>75000</td>\n",
       "    </tr>\n",
       "    <tr>\n",
       "      <th>3239546</th>\n",
       "      <td>2019</td>\n",
       "      <td>201901</td>\n",
       "      <td>1428034</td>\n",
       "      <td>2019001411359</td>\n",
       "      <td>56.0</td>\n",
       "      <td>2019014280341</td>\n",
       "      <td>50056</td>\n",
       "      <td>1</td>\n",
       "      <td>0</td>\n",
       "      <td>1</td>\n",
       "      <td>...</td>\n",
       "      <td>1</td>\n",
       "      <td>75</td>\n",
       "      <td>1</td>\n",
       "      <td>0</td>\n",
       "      <td>0</td>\n",
       "      <td>0</td>\n",
       "      <td>0</td>\n",
       "      <td>0</td>\n",
       "      <td>0</td>\n",
       "      <td>57700</td>\n",
       "    </tr>\n",
       "    <tr>\n",
       "      <th>3239548</th>\n",
       "      <td>2019</td>\n",
       "      <td>201901</td>\n",
       "      <td>1428035</td>\n",
       "      <td>2019001411842</td>\n",
       "      <td>29.0</td>\n",
       "      <td>2019014280351</td>\n",
       "      <td>50056</td>\n",
       "      <td>1</td>\n",
       "      <td>0</td>\n",
       "      <td>1</td>\n",
       "      <td>...</td>\n",
       "      <td>2</td>\n",
       "      <td>63</td>\n",
       "      <td>5</td>\n",
       "      <td>0</td>\n",
       "      <td>0</td>\n",
       "      <td>0</td>\n",
       "      <td>0</td>\n",
       "      <td>5150</td>\n",
       "      <td>580</td>\n",
       "      <td>117000</td>\n",
       "    </tr>\n",
       "    <tr>\n",
       "      <th>3239550</th>\n",
       "      <td>2019</td>\n",
       "      <td>201901</td>\n",
       "      <td>1428036</td>\n",
       "      <td>2019001412021</td>\n",
       "      <td>51.0</td>\n",
       "      <td>2019014280361</td>\n",
       "      <td>20056</td>\n",
       "      <td>1</td>\n",
       "      <td>0</td>\n",
       "      <td>1</td>\n",
       "      <td>...</td>\n",
       "      <td>2</td>\n",
       "      <td>85</td>\n",
       "      <td>5</td>\n",
       "      <td>0</td>\n",
       "      <td>0</td>\n",
       "      <td>0</td>\n",
       "      <td>0</td>\n",
       "      <td>0</td>\n",
       "      <td>0</td>\n",
       "      <td>18500</td>\n",
       "    </tr>\n",
       "    <tr>\n",
       "      <th>3239551</th>\n",
       "      <td>2019</td>\n",
       "      <td>201901</td>\n",
       "      <td>1428037</td>\n",
       "      <td>2019001412362</td>\n",
       "      <td>65.0</td>\n",
       "      <td>2019014280371</td>\n",
       "      <td>50056</td>\n",
       "      <td>1</td>\n",
       "      <td>0</td>\n",
       "      <td>1</td>\n",
       "      <td>...</td>\n",
       "      <td>2</td>\n",
       "      <td>67</td>\n",
       "      <td>1</td>\n",
       "      <td>0</td>\n",
       "      <td>0</td>\n",
       "      <td>23</td>\n",
       "      <td>2309</td>\n",
       "      <td>0</td>\n",
       "      <td>0</td>\n",
       "      <td>49900</td>\n",
       "    </tr>\n",
       "  </tbody>\n",
       "</table>\n",
       "<p>1421728 rows × 21 columns</p>\n",
       "</div>"
      ],
      "text/plain": [
       "         YEAR  SAMPLE   SERIAL       CBSERIAL  HHWT        CLUSTER  STRATA  \\\n",
       "0        2019  201901        1  2019010000088  11.0  2019000000011  220001   \n",
       "1        2019  201901        2  2019010000096  70.0  2019000000021  100001   \n",
       "2        2019  201901        3  2019010000153  20.0  2019000000031  110001   \n",
       "3        2019  201901        4  2019010000198  79.0  2019000000041  110001   \n",
       "4        2019  201901        5  2019010000205  53.0  2019000000051  270101   \n",
       "...       ...     ...      ...            ...   ...            ...     ...   \n",
       "3239537  2019  201901  1428033  2019001410371  14.0  2019014280331   40056   \n",
       "3239546  2019  201901  1428034  2019001411359  56.0  2019014280341   50056   \n",
       "3239548  2019  201901  1428035  2019001411842  29.0  2019014280351   50056   \n",
       "3239550  2019  201901  1428036  2019001412021  51.0  2019014280361   20056   \n",
       "3239551  2019  201901  1428037  2019001412362  65.0  2019014280371   50056   \n",
       "\n",
       "         GQ  RENTGRS  PERNUM  ...  SEX  AGE  MARST  GRADEATT  GRADEATTD  \\\n",
       "0         4        0       1  ...    1   39      6         0          0   \n",
       "1         3        0       1  ...    2   21      6         0          0   \n",
       "2         4        0       1  ...    1   19      6         6         60   \n",
       "3         3        0       1  ...    1   77      5         0          0   \n",
       "4         3        0       1  ...    1   41      3         0          0   \n",
       "...      ..      ...     ...  ...  ...  ...    ...       ...        ...   \n",
       "3239537   1        0       1  ...    1   33      1         0          0   \n",
       "3239546   1        0       1  ...    1   75      1         0          0   \n",
       "3239548   1        0       1  ...    2   63      5         0          0   \n",
       "3239550   1        0       1  ...    2   85      5         0          0   \n",
       "3239551   1        0       1  ...    2   67      1         0          0   \n",
       "\n",
       "         DEGFIELD  DEGFIELDD   OCC   IND  INCTOT  \n",
       "0               0          0     0     0    9000  \n",
       "1               0          0     0     0     150  \n",
       "2               0          0  5240  9160    1400  \n",
       "3               0          0     0     0   22700  \n",
       "4               0          0     0     0       0  \n",
       "...           ...        ...   ...   ...     ...  \n",
       "3239537        49       4901   110  9370   75000  \n",
       "3239546         0          0     0     0   57700  \n",
       "3239548         0          0  5150   580  117000  \n",
       "3239550         0          0     0     0   18500  \n",
       "3239551        23       2309     0     0   49900  \n",
       "\n",
       "[1421728 rows x 21 columns]"
      ]
     },
     "execution_count": 8,
     "metadata": {},
     "output_type": "execute_result"
    }
   ],
   "source": [
    "raw_data=raw_data.loc[raw_data['AGE']>=18]\n",
    "raw_data"
   ]
  },
  {
   "cell_type": "code",
   "execution_count": 9,
   "id": "7d97e41b",
   "metadata": {},
   "outputs": [
    {
     "data": {
      "text/html": [
       "<div>\n",
       "<style scoped>\n",
       "    .dataframe tbody tr th:only-of-type {\n",
       "        vertical-align: middle;\n",
       "    }\n",
       "\n",
       "    .dataframe tbody tr th {\n",
       "        vertical-align: top;\n",
       "    }\n",
       "\n",
       "    .dataframe thead th {\n",
       "        text-align: right;\n",
       "    }\n",
       "</style>\n",
       "<table border=\"1\" class=\"dataframe\">\n",
       "  <thead>\n",
       "    <tr style=\"text-align: right;\">\n",
       "      <th></th>\n",
       "      <th>RENTGRS</th>\n",
       "      <th>PERWT</th>\n",
       "      <th>SEX</th>\n",
       "      <th>AGE</th>\n",
       "      <th>MARST</th>\n",
       "      <th>GRADEATT</th>\n",
       "      <th>DEGFIELDD</th>\n",
       "      <th>OCC</th>\n",
       "      <th>IND</th>\n",
       "      <th>INCTOT</th>\n",
       "    </tr>\n",
       "  </thead>\n",
       "  <tbody>\n",
       "    <tr>\n",
       "      <th>1489296</th>\n",
       "      <td>0</td>\n",
       "      <td>23.0</td>\n",
       "      <td>1</td>\n",
       "      <td>72</td>\n",
       "      <td>4</td>\n",
       "      <td>0</td>\n",
       "      <td>0</td>\n",
       "      <td>0</td>\n",
       "      <td>0</td>\n",
       "      <td>136700</td>\n",
       "    </tr>\n",
       "    <tr>\n",
       "      <th>1990428</th>\n",
       "      <td>0</td>\n",
       "      <td>81.0</td>\n",
       "      <td>1</td>\n",
       "      <td>53</td>\n",
       "      <td>6</td>\n",
       "      <td>0</td>\n",
       "      <td>0</td>\n",
       "      <td>9620</td>\n",
       "      <td>6380</td>\n",
       "      <td>6750</td>\n",
       "    </tr>\n",
       "    <tr>\n",
       "      <th>1281251</th>\n",
       "      <td>0</td>\n",
       "      <td>123.0</td>\n",
       "      <td>1</td>\n",
       "      <td>62</td>\n",
       "      <td>1</td>\n",
       "      <td>0</td>\n",
       "      <td>0</td>\n",
       "      <td>4340</td>\n",
       "      <td>8562</td>\n",
       "      <td>40000</td>\n",
       "    </tr>\n",
       "    <tr>\n",
       "      <th>2387470</th>\n",
       "      <td>0</td>\n",
       "      <td>39.0</td>\n",
       "      <td>2</td>\n",
       "      <td>95</td>\n",
       "      <td>5</td>\n",
       "      <td>0</td>\n",
       "      <td>0</td>\n",
       "      <td>0</td>\n",
       "      <td>0</td>\n",
       "      <td>87100</td>\n",
       "    </tr>\n",
       "    <tr>\n",
       "      <th>1571857</th>\n",
       "      <td>0</td>\n",
       "      <td>78.0</td>\n",
       "      <td>2</td>\n",
       "      <td>60</td>\n",
       "      <td>1</td>\n",
       "      <td>0</td>\n",
       "      <td>6203</td>\n",
       "      <td>700</td>\n",
       "      <td>7080</td>\n",
       "      <td>53000</td>\n",
       "    </tr>\n",
       "    <tr>\n",
       "      <th>...</th>\n",
       "      <td>...</td>\n",
       "      <td>...</td>\n",
       "      <td>...</td>\n",
       "      <td>...</td>\n",
       "      <td>...</td>\n",
       "      <td>...</td>\n",
       "      <td>...</td>\n",
       "      <td>...</td>\n",
       "      <td>...</td>\n",
       "      <td>...</td>\n",
       "    </tr>\n",
       "    <tr>\n",
       "      <th>1669839</th>\n",
       "      <td>0</td>\n",
       "      <td>29.0</td>\n",
       "      <td>2</td>\n",
       "      <td>60</td>\n",
       "      <td>5</td>\n",
       "      <td>0</td>\n",
       "      <td>0</td>\n",
       "      <td>340</td>\n",
       "      <td>8290</td>\n",
       "      <td>34000</td>\n",
       "    </tr>\n",
       "    <tr>\n",
       "      <th>2644397</th>\n",
       "      <td>0</td>\n",
       "      <td>100.0</td>\n",
       "      <td>2</td>\n",
       "      <td>64</td>\n",
       "      <td>1</td>\n",
       "      <td>0</td>\n",
       "      <td>0</td>\n",
       "      <td>0</td>\n",
       "      <td>0</td>\n",
       "      <td>60</td>\n",
       "    </tr>\n",
       "    <tr>\n",
       "      <th>805610</th>\n",
       "      <td>0</td>\n",
       "      <td>340.0</td>\n",
       "      <td>1</td>\n",
       "      <td>74</td>\n",
       "      <td>1</td>\n",
       "      <td>0</td>\n",
       "      <td>0</td>\n",
       "      <td>0</td>\n",
       "      <td>0</td>\n",
       "      <td>19200</td>\n",
       "    </tr>\n",
       "    <tr>\n",
       "      <th>2690268</th>\n",
       "      <td>0</td>\n",
       "      <td>87.0</td>\n",
       "      <td>1</td>\n",
       "      <td>44</td>\n",
       "      <td>6</td>\n",
       "      <td>0</td>\n",
       "      <td>0</td>\n",
       "      <td>4700</td>\n",
       "      <td>8680</td>\n",
       "      <td>48000</td>\n",
       "    </tr>\n",
       "    <tr>\n",
       "      <th>1049654</th>\n",
       "      <td>0</td>\n",
       "      <td>37.0</td>\n",
       "      <td>1</td>\n",
       "      <td>62</td>\n",
       "      <td>1</td>\n",
       "      <td>0</td>\n",
       "      <td>0</td>\n",
       "      <td>8610</td>\n",
       "      <td>2290</td>\n",
       "      <td>27000</td>\n",
       "    </tr>\n",
       "  </tbody>\n",
       "</table>\n",
       "<p>50000 rows × 10 columns</p>\n",
       "</div>"
      ],
      "text/plain": [
       "         RENTGRS  PERWT  SEX  AGE  MARST  GRADEATT  DEGFIELDD   OCC   IND  \\\n",
       "1489296        0   23.0    1   72      4         0          0     0     0   \n",
       "1990428        0   81.0    1   53      6         0          0  9620  6380   \n",
       "1281251        0  123.0    1   62      1         0          0  4340  8562   \n",
       "2387470        0   39.0    2   95      5         0          0     0     0   \n",
       "1571857        0   78.0    2   60      1         0       6203   700  7080   \n",
       "...          ...    ...  ...  ...    ...       ...        ...   ...   ...   \n",
       "1669839        0   29.0    2   60      5         0          0   340  8290   \n",
       "2644397        0  100.0    2   64      1         0          0     0     0   \n",
       "805610         0  340.0    1   74      1         0          0     0     0   \n",
       "2690268        0   87.0    1   44      6         0          0  4700  8680   \n",
       "1049654        0   37.0    1   62      1         0          0  8610  2290   \n",
       "\n",
       "         INCTOT  \n",
       "1489296  136700  \n",
       "1990428    6750  \n",
       "1281251   40000  \n",
       "2387470   87100  \n",
       "1571857   53000  \n",
       "...         ...  \n",
       "1669839   34000  \n",
       "2644397      60  \n",
       "805610    19200  \n",
       "2690268   48000  \n",
       "1049654   27000  \n",
       "\n",
       "[50000 rows x 10 columns]"
      ]
     },
     "execution_count": 9,
     "metadata": {},
     "output_type": "execute_result"
    }
   ],
   "source": [
    "## RENTGRS: Monthly gross rent\n",
    "## PERWT: person weight\n",
    "## SEX: Male 1 Female 2\n",
    "## AGE: 1-135\n",
    "## MARST: 1                   Married, spouse present\n",
    "#        2                   Married, spouse absent\n",
    "#        3                   Separated\n",
    "#        4                   Divorced\n",
    "#        5                   Widowed\n",
    "#        6                   Never married/single\n",
    "## GRADEATT: Grade level attending\n",
    "## DEGFIELDD: Field of degree\n",
    "## INCTOT: Total personal income\n",
    "## OCC: occupation\n",
    "## IND: industry\n",
    "data=raw_data.drop(['YEAR','SAMPLE', 'SERIAL','CBSERIAL', 'HHWT',\n",
    "                    'GRADEATTD','GQ','CLUSTER', 'STRATA',\n",
    "                   'DEGFIELD','PERNUM'],axis=1)\n",
    "\n",
    "data=data.sample(n=50000,replace=False,random_state=1)\n",
    "data"
   ]
  },
  {
   "cell_type": "code",
   "execution_count": 15,
   "id": "074efaa2",
   "metadata": {},
   "outputs": [
    {
     "data": {
      "text/plain": [
       "Index(['RENTGRS', 'PERWT', 'SEX', 'AGE', 'MARST', 'GRADEATT', 'DEGFIELDD',\n",
       "       'OCC', 'IND', 'INCTOT'],\n",
       "      dtype='object')"
      ]
     },
     "execution_count": 15,
     "metadata": {},
     "output_type": "execute_result"
    }
   ],
   "source": [
    "data1=data.copy()\n",
    "data1.columns"
   ]
  },
  {
   "cell_type": "markdown",
   "id": "e787249c",
   "metadata": {},
   "source": [
    "# Data Visualization"
   ]
  },
  {
   "cell_type": "code",
   "execution_count": 12,
   "id": "e5f9f9bb",
   "metadata": {},
   "outputs": [],
   "source": [
    "import matplotlib.pyplot as plt\n",
    "import seaborn as sns"
   ]
  },
  {
   "cell_type": "code",
   "execution_count": 18,
   "id": "6a706070",
   "metadata": {},
   "outputs": [
    {
     "data": {
      "text/plain": [
       "<AxesSubplot:xlabel='SEX', ylabel='INCTOT'>"
      ]
     },
     "execution_count": 18,
     "metadata": {},
     "output_type": "execute_result"
    },
    {
     "data": {
      "image/png": "[encoded data removed]",
      "text/plain": [
       "<Figure size 432x288 with 1 Axes>"
      ]
     },
     "metadata": {
      "needs_background": "light"
     },
     "output_type": "display_data"
    }
   ],
   "source": [
    "sns.boxplot(x=\"SEX\", y=\"INCTOT\", data=data)"
   ]
  },
  {
   "cell_type": "code",
   "execution_count": 19,
   "id": "bf729d58",
   "metadata": {},
   "outputs": [
    {
     "data": {
      "text/plain": [
       "<AxesSubplot:xlabel='MARST', ylabel='INCTOT'>"
      ]
     },
     "execution_count": 19,
     "metadata": {},
     "output_type": "execute_result"
    },
    {
     "data": {
      "image/png": "[encoded data removed]",
      "text/plain": [
       "<Figure size 432x288 with 1 Axes>"
      ]
     },
     "metadata": {
      "needs_background": "light"
     },
     "output_type": "display_data"
    }
   ],
   "source": [
    "sns.boxplot(x=\"MARST\", y=\"INCTOT\", data=data)"
   ]
  },
  {
   "cell_type": "code",
   "execution_count": 21,
   "id": "1d0a2978",
   "metadata": {},
   "outputs": [
    {
     "data": {
      "text/plain": [
       "<AxesSubplot:xlabel='GRADEATT', ylabel='INCTOT'>"
      ]
     },
     "execution_count": 21,
     "metadata": {},
     "output_type": "execute_result"
    },
    {
     "data": {
      "image/png": "[encoded data removed]",
      "text/plain": [
       "<Figure size 432x288 with 1 Axes>"
      ]
     },
     "metadata": {
      "needs_background": "light"
     },
     "output_type": "display_data"
    }
   ],
   "source": [
    "sns.boxplot(x='GRADEATT', y=\"INCTOT\", data=data)"
   ]
  },
  {
   "cell_type": "code",
   "execution_count": 26,
   "id": "ab5a0c26",
   "metadata": {},
   "outputs": [
    {
     "data": {
      "text/plain": [
       "(array([25716.,     0.,     0.,     0.,     0.,     0.,     0.,     0.,\n",
       "            0., 24284.]),\n",
       " array([1. , 1.1, 1.2, 1.3, 1.4, 1.5, 1.6, 1.7, 1.8, 1.9, 2. ]),\n",
       " <BarContainer object of 10 artists>)"
      ]
     },
     "execution_count": 26,
     "metadata": {},
     "output_type": "execute_result"
    },
    {
     "data": {
      "image/png": "[encoded data removed]",
      "text/plain": [
       "<Figure size 432x288 with 1 Axes>"
      ]
     },
     "metadata": {
      "needs_background": "light"
     },
     "output_type": "display_data"
    }
   ],
   "source": [
    "from sklearn.preprocessing import LabelEncoder\n",
    "from sklearn.preprocessing.label import _encode"
   ]
  },
  {
   "cell_type": "code",
   "execution_count": null,
   "id": "8b34fd9b",
   "metadata": {},
   "outputs": [],
   "source": []
  },
  {
   "cell_type": "code",
   "execution_count": null,
   "id": "a783d4eb",
   "metadata": {},
   "outputs": [],
   "source": []
  },
  {
   "cell_type": "code",
   "execution_count": null,
   "id": "a7ceded0",
   "metadata": {},
   "outputs": [],
   "source": []
  },
  {
   "cell_type": "code",
   "execution_count": null,
   "id": "4eaba502",
   "metadata": {},
   "outputs": [],
   "source": []
  },
  {
   "cell_type": "code",
   "execution_count": 176,
   "id": "ebaa1048",
   "metadata": {},
   "outputs": [
    {
     "data": {
      "text/html": [
       "<div>\n",
       "<style scoped>\n",
       "    .dataframe tbody tr th:only-of-type {\n",
       "        vertical-align: middle;\n",
       "    }\n",
       "\n",
       "    .dataframe tbody tr th {\n",
       "        vertical-align: top;\n",
       "    }\n",
       "\n",
       "    .dataframe thead th {\n",
       "        text-align: right;\n",
       "    }\n",
       "</style>\n",
       "<table border=\"1\" class=\"dataframe\">\n",
       "  <thead>\n",
       "    <tr style=\"text-align: right;\">\n",
       "      <th></th>\n",
       "      <th>RENTGRS</th>\n",
       "      <th>PERWT</th>\n",
       "      <th>SEX</th>\n",
       "      <th>AGE</th>\n",
       "      <th>MARST</th>\n",
       "      <th>GRADEATT</th>\n",
       "      <th>DEGFIELDD</th>\n",
       "      <th>OCC</th>\n",
       "      <th>IND</th>\n",
       "      <th>INCTOT</th>\n",
       "    </tr>\n",
       "  </thead>\n",
       "  <tbody>\n",
       "    <tr>\n",
       "      <th>RENTGRS</th>\n",
       "      <td>1.00</td>\n",
       "      <td>0.16</td>\n",
       "      <td>0.00</td>\n",
       "      <td>-0.17</td>\n",
       "      <td>0.14</td>\n",
       "      <td>0.06</td>\n",
       "      <td>0.01</td>\n",
       "      <td>0.03</td>\n",
       "      <td>0.05</td>\n",
       "      <td>0.06</td>\n",
       "    </tr>\n",
       "    <tr>\n",
       "      <th>PERWT</th>\n",
       "      <td>0.16</td>\n",
       "      <td>1.00</td>\n",
       "      <td>-0.00</td>\n",
       "      <td>-0.14</td>\n",
       "      <td>0.10</td>\n",
       "      <td>0.04</td>\n",
       "      <td>-0.03</td>\n",
       "      <td>0.03</td>\n",
       "      <td>0.00</td>\n",
       "      <td>0.07</td>\n",
       "    </tr>\n",
       "    <tr>\n",
       "      <th>SEX</th>\n",
       "      <td>0.00</td>\n",
       "      <td>-0.00</td>\n",
       "      <td>1.00</td>\n",
       "      <td>0.05</td>\n",
       "      <td>-0.01</td>\n",
       "      <td>0.00</td>\n",
       "      <td>0.02</td>\n",
       "      <td>-0.12</td>\n",
       "      <td>0.07</td>\n",
       "      <td>-0.02</td>\n",
       "    </tr>\n",
       "    <tr>\n",
       "      <th>AGE</th>\n",
       "      <td>-0.17</td>\n",
       "      <td>-0.14</td>\n",
       "      <td>0.05</td>\n",
       "      <td>1.00</td>\n",
       "      <td>-0.55</td>\n",
       "      <td>-0.49</td>\n",
       "      <td>0.18</td>\n",
       "      <td>0.07</td>\n",
       "      <td>0.10</td>\n",
       "      <td>-0.66</td>\n",
       "    </tr>\n",
       "    <tr>\n",
       "      <th>MARST</th>\n",
       "      <td>0.14</td>\n",
       "      <td>0.10</td>\n",
       "      <td>-0.01</td>\n",
       "      <td>-0.55</td>\n",
       "      <td>1.00</td>\n",
       "      <td>0.42</td>\n",
       "      <td>-0.24</td>\n",
       "      <td>-0.15</td>\n",
       "      <td>-0.23</td>\n",
       "      <td>0.47</td>\n",
       "    </tr>\n",
       "    <tr>\n",
       "      <th>GRADEATT</th>\n",
       "      <td>0.06</td>\n",
       "      <td>0.04</td>\n",
       "      <td>0.00</td>\n",
       "      <td>-0.49</td>\n",
       "      <td>0.42</td>\n",
       "      <td>1.00</td>\n",
       "      <td>-0.15</td>\n",
       "      <td>-0.12</td>\n",
       "      <td>-0.12</td>\n",
       "      <td>0.32</td>\n",
       "    </tr>\n",
       "    <tr>\n",
       "      <th>DEGFIELDD</th>\n",
       "      <td>0.01</td>\n",
       "      <td>-0.03</td>\n",
       "      <td>0.02</td>\n",
       "      <td>0.18</td>\n",
       "      <td>-0.24</td>\n",
       "      <td>-0.15</td>\n",
       "      <td>1.00</td>\n",
       "      <td>-0.05</td>\n",
       "      <td>0.28</td>\n",
       "      <td>-0.24</td>\n",
       "    </tr>\n",
       "    <tr>\n",
       "      <th>OCC</th>\n",
       "      <td>0.03</td>\n",
       "      <td>0.03</td>\n",
       "      <td>-0.12</td>\n",
       "      <td>0.07</td>\n",
       "      <td>-0.15</td>\n",
       "      <td>-0.12</td>\n",
       "      <td>-0.05</td>\n",
       "      <td>1.00</td>\n",
       "      <td>0.49</td>\n",
       "      <td>-0.40</td>\n",
       "    </tr>\n",
       "    <tr>\n",
       "      <th>IND</th>\n",
       "      <td>0.05</td>\n",
       "      <td>0.00</td>\n",
       "      <td>0.07</td>\n",
       "      <td>0.10</td>\n",
       "      <td>-0.23</td>\n",
       "      <td>-0.12</td>\n",
       "      <td>0.28</td>\n",
       "      <td>0.49</td>\n",
       "      <td>1.00</td>\n",
       "      <td>-0.48</td>\n",
       "    </tr>\n",
       "    <tr>\n",
       "      <th>INCTOT</th>\n",
       "      <td>0.06</td>\n",
       "      <td>0.07</td>\n",
       "      <td>-0.02</td>\n",
       "      <td>-0.66</td>\n",
       "      <td>0.47</td>\n",
       "      <td>0.32</td>\n",
       "      <td>-0.24</td>\n",
       "      <td>-0.40</td>\n",
       "      <td>-0.48</td>\n",
       "      <td>1.00</td>\n",
       "    </tr>\n",
       "  </tbody>\n",
       "</table>\n",
       "</div>"
      ],
      "text/plain": [
       "           RENTGRS  PERWT   SEX   AGE  MARST  GRADEATT  DEGFIELDD   OCC   IND  \\\n",
       "RENTGRS       1.00   0.16  0.00 -0.17   0.14      0.06       0.01  0.03  0.05   \n",
       "PERWT         0.16   1.00 -0.00 -0.14   0.10      0.04      -0.03  0.03  0.00   \n",
       "SEX           0.00  -0.00  1.00  0.05  -0.01      0.00       0.02 -0.12  0.07   \n",
       "AGE          -0.17  -0.14  0.05  1.00  -0.55     -0.49       0.18  0.07  0.10   \n",
       "MARST         0.14   0.10 -0.01 -0.55   1.00      0.42      -0.24 -0.15 -0.23   \n",
       "GRADEATT      0.06   0.04  0.00 -0.49   0.42      1.00      -0.15 -0.12 -0.12   \n",
       "DEGFIELDD     0.01  -0.03  0.02  0.18  -0.24     -0.15       1.00 -0.05  0.28   \n",
       "OCC           0.03   0.03 -0.12  0.07  -0.15     -0.12      -0.05  1.00  0.49   \n",
       "IND           0.05   0.00  0.07  0.10  -0.23     -0.12       0.28  0.49  1.00   \n",
       "INCTOT        0.06   0.07 -0.02 -0.66   0.47      0.32      -0.24 -0.40 -0.48   \n",
       "\n",
       "           INCTOT  \n",
       "RENTGRS      0.06  \n",
       "PERWT        0.07  \n",
       "SEX         -0.02  \n",
       "AGE         -0.66  \n",
       "MARST        0.47  \n",
       "GRADEATT     0.32  \n",
       "DEGFIELDD   -0.24  \n",
       "OCC         -0.40  \n",
       "IND         -0.48  \n",
       "INCTOT       1.00  "
      ]
     },
     "execution_count": 176,
     "metadata": {},
     "output_type": "execute_result"
    }
   ],
   "source": [
    "## Correlation Matrix\n",
    "\n",
    "cormat = data.corr()\n",
    "round(cormat,2)"
   ]
  },
  {
   "cell_type": "markdown",
   "id": "54da7ee3",
   "metadata": {},
   "source": [
    " ### Correlation matrix to heat map; The primary concept of heatmaps is to \n",
    "###  replace numbers with colours of varied hues, as illustrated by the scale below. \n",
    "###   This style of depiction, as opposed to a table of data, \n",
    "### can make it much easier to identify linear correlations between variables.\n",
    "### From this map, we can see that MARST and GRADEATT have the largest \n",
    "### positive correlation with INCTOT whereas AGE has the largest negative correlation \n",
    "### with INCTOT\n"
   ]
  },
  {
   "cell_type": "code",
   "execution_count": 385,
   "id": "2dc3cf2d",
   "metadata": {},
   "outputs": [
    {
     "data": {
      "text/plain": [
       "<AxesSubplot:>"
      ]
     },
     "execution_count": 385,
     "metadata": {},
     "output_type": "execute_result"
    },
    {
     "data": {
      "image/png": "[encoded data removed]",
      "text/plain": [
       "<Figure size 432x288 with 2 Axes>"
      ]
     },
     "metadata": {
      "needs_background": "light"
     },
     "output_type": "display_data"
    }
   ],
   "source": [
    "\n",
    "sns.heatmap(cormat)"
   ]
  },
  {
   "cell_type": "code",
   "execution_count": 178,
   "id": "bd412cd6",
   "metadata": {},
   "outputs": [],
   "source": [
    "data['INCTOT']=np.log(data['INCTOT'])"
   ]
  },
  {
   "cell_type": "code",
   "execution_count": 179,
   "id": "1dd92758",
   "metadata": {},
   "outputs": [
    {
     "data": {
      "text/plain": [
       "<AxesSubplot:xlabel='AGE', ylabel='INCTOT'>"
      ]
     },
     "execution_count": 179,
     "metadata": {},
     "output_type": "execute_result"
    },
    {
     "data": {
      "image/png": "[encoded data removed]",
      "text/plain": [
       "<Figure size 432x288 with 1 Axes>"
      ]
     },
     "metadata": {
      "needs_background": "light"
     },
     "output_type": "display_data"
    }
   ],
   "source": [
    "sns.scatterplot(data=data, x=\"AGE\", y=\"INCTOT\", hue=\"SEX\",\n",
    "               palette=['dodgerblue','red'], legend='full')"
   ]
  },
  {
   "cell_type": "code",
   "execution_count": 180,
   "id": "647186d0",
   "metadata": {},
   "outputs": [
    {
     "data": {
      "text/plain": [
       "<AxesSubplot:xlabel='AGE', ylabel='INCTOT'>"
      ]
     },
     "execution_count": 180,
     "metadata": {},
     "output_type": "execute_result"
    },
    {
     "data": {
      "image/png": "[encoded data removed]",
      "text/plain": [
       "<Figure size 432x288 with 1 Axes>"
      ]
     },
     "metadata": {
      "needs_background": "light"
     },
     "output_type": "display_data"
    }
   ],
   "source": [
    "sns.scatterplot(data=data, x=\"AGE\", y=\"INCTOT\", hue=\"MARST\",\n",
    "               palette=['green','orange','brown','dodgerblue','red','pink'])"
   ]
  },
  {
   "cell_type": "code",
   "execution_count": 181,
   "id": "251779de",
   "metadata": {},
   "outputs": [
    {
     "data": {
      "text/plain": [
       "<AxesSubplot:xlabel='SEX', ylabel='INCTOT'>"
      ]
     },
     "execution_count": 181,
     "metadata": {},
     "output_type": "execute_result"
    },
    {
     "data": {
      "image/png": "[encoded data removed]",
      "text/plain": [
       "<Figure size 432x288 with 1 Axes>"
      ]
     },
     "metadata": {
      "needs_background": "light"
     },
     "output_type": "display_data"
    }
   ],
   "source": [
    "sns.stripplot(x=\"SEX\", y=\"INCTOT\", data=data)"
   ]
  },
  {
   "cell_type": "code",
   "execution_count": 182,
   "id": "1bc16dcb",
   "metadata": {},
   "outputs": [
    {
     "data": {
      "text/plain": [
       "<AxesSubplot:xlabel='MARST', ylabel='INCTOT'>"
      ]
     },
     "execution_count": 182,
     "metadata": {},
     "output_type": "execute_result"
    },
    {
     "data": {
      "image/png": "[encoded data removed]",
      "text/plain": [
       "<Figure size 432x288 with 1 Axes>"
      ]
     },
     "metadata": {
      "needs_background": "light"
     },
     "output_type": "display_data"
    }
   ],
   "source": [
    "sns.stripplot(x=\"MARST\", y=\"INCTOT\", data=data)"
   ]
  },
  {
   "cell_type": "code",
   "execution_count": 183,
   "id": "909e509e",
   "metadata": {},
   "outputs": [
    {
     "data": {
      "text/plain": [
       "<AxesSubplot:xlabel='GRADEATT', ylabel='INCTOT'>"
      ]
     },
     "execution_count": 183,
     "metadata": {},
     "output_type": "execute_result"
    },
    {
     "data": {
      "image/png": "[encoded data removed]",
      "text/plain": [
       "<Figure size 432x288 with 1 Axes>"
      ]
     },
     "metadata": {
      "needs_background": "light"
     },
     "output_type": "display_data"
    }
   ],
   "source": [
    "sns.stripplot(x=\"GRADEATT\", y=\"INCTOT\", data=data)"
   ]
  },
  {
   "cell_type": "code",
   "execution_count": 184,
   "id": "65e0caff",
   "metadata": {},
   "outputs": [
    {
     "data": {
      "text/plain": [
       "<AxesSubplot:xlabel='SEX', ylabel='INCTOT'>"
      ]
     },
     "execution_count": 184,
     "metadata": {},
     "output_type": "execute_result"
    },
    {
     "data": {
      "image/png": "[encoded data removed]",
      "text/plain": [
       "<Figure size 432x288 with 1 Axes>"
      ]
     },
     "metadata": {
      "needs_background": "light"
     },
     "output_type": "display_data"
    }
   ],
   "source": [
    " sns.stripplot(x=\"SEX\", y=\"INCTOT\", hue=\"MARST\", data=data)"
   ]
  },
  {
   "cell_type": "markdown",
   "id": "9974f8a4",
   "metadata": {},
   "source": [
    "# Standardize the data"
   ]
  },
  {
   "cell_type": "code",
   "execution_count": 27,
   "id": "9de817b0",
   "metadata": {},
   "outputs": [],
   "source": [
    "from sklearn.preprocessing import StandardScaler"
   ]
  },
  {
   "cell_type": "code",
   "execution_count": 28,
   "id": "670c458d",
   "metadata": {},
   "outputs": [],
   "source": [
    "scaler=StandardScaler()"
   ]
  },
  {
   "cell_type": "code",
   "execution_count": 29,
   "id": "c3af7906",
   "metadata": {},
   "outputs": [
    {
     "data": {
      "text/plain": [
       "StandardScaler()"
      ]
     },
     "execution_count": 29,
     "metadata": {},
     "output_type": "execute_result"
    }
   ],
   "source": [
    "scaler.fit(data)"
   ]
  },
  {
   "cell_type": "code",
   "execution_count": 30,
   "id": "87023fde",
   "metadata": {},
   "outputs": [],
   "source": [
    "scaled_data=scaler.transform(data)\n",
    "\n",
    "inputs=scaled_data[:,:-1]\n",
    "income=scaled_data[:,-1]\n"
   ]
  },
  {
   "cell_type": "code",
   "execution_count": 31,
   "id": "562496e4",
   "metadata": {},
   "outputs": [],
   "source": [
    "from sklearn import linear_model\n",
    "from sklearn.model_selection import train_test_split\n",
    "\n",
    "from sklearn.metrics import accuracy_score"
   ]
  },
  {
   "cell_type": "code",
   "execution_count": 32,
   "id": "95d20ebf",
   "metadata": {},
   "outputs": [],
   "source": [
    "x_train,x_test,y_train,y_test=train_test_split(inputs,income,test_size=0.2,random_state=20)"
   ]
  },
  {
   "cell_type": "markdown",
   "id": "96f434ae",
   "metadata": {},
   "source": [
    "## Support Vector Machine"
   ]
  },
  {
   "cell_type": "code",
   "execution_count": 65,
   "id": "d4712c8e",
   "metadata": {},
   "outputs": [],
   "source": [
    " from sklearn import svm\n",
    "from sklearn import metrics"
   ]
  },
  {
   "cell_type": "code",
   "execution_count": 74,
   "id": "253dada5",
   "metadata": {},
   "outputs": [],
   "source": [
    "mod1=svm.SVR(kernel=\"poly\")"
   ]
  },
  {
   "cell_type": "code",
   "execution_count": 75,
   "id": "ab3dad42",
   "metadata": {},
   "outputs": [
    {
     "data": {
      "text/plain": [
       "SVR(kernel='poly')"
      ]
     },
     "execution_count": 75,
     "metadata": {},
     "output_type": "execute_result"
    }
   ],
   "source": [
    "mod1.fit(x_train,y_train)"
   ]
  },
  {
   "cell_type": "code",
   "execution_count": 76,
   "id": "4d432108",
   "metadata": {},
   "outputs": [],
   "source": [
    "pred1=mod1.predict(x_test)"
   ]
  },
  {
   "cell_type": "code",
   "execution_count": 77,
   "id": "93f70603",
   "metadata": {},
   "outputs": [
    {
     "data": {
      "text/plain": [
       "0.14308479612239255"
      ]
     },
     "execution_count": 77,
     "metadata": {},
     "output_type": "execute_result"
    }
   ],
   "source": [
    "r2_score(y_test,pred1)"
   ]
  },
  {
   "cell_type": "code",
   "execution_count": 356,
   "id": "a120f917",
   "metadata": {},
   "outputs": [
    {
     "data": {
      "text/plain": [
       "846.1385117701066"
      ]
     },
     "execution_count": 356,
     "metadata": {},
     "output_type": "execute_result"
    }
   ],
   "source": [
    "errors = list()\n",
    "for i in range(len(y_test)):\n",
    "\t# calculate error\n",
    "\terr = (pred1[i] - y_test[i])**2\n",
    "\t# store error\n",
    "\terrors.append(err)\n",
    "\n",
    "np.sum(errors)"
   ]
  },
  {
   "cell_type": "markdown",
   "id": "987bf5e1",
   "metadata": {},
   "source": [
    "# Decision Tree"
   ]
  },
  {
   "cell_type": "code",
   "execution_count": 78,
   "id": "c01e02fd",
   "metadata": {},
   "outputs": [],
   "source": [
    "from sklearn import tree"
   ]
  },
  {
   "cell_type": "code",
   "execution_count": 87,
   "id": "fa787cf1",
   "metadata": {},
   "outputs": [],
   "source": [
    "mod2=tree.DecisionTreeRegressor(max_depth=10)"
   ]
  },
  {
   "cell_type": "code",
   "execution_count": 88,
   "id": "e5584042",
   "metadata": {},
   "outputs": [
    {
     "data": {
      "text/plain": [
       "DecisionTreeRegressor(max_depth=10)"
      ]
     },
     "execution_count": 88,
     "metadata": {},
     "output_type": "execute_result"
    }
   ],
   "source": [
    "mod2.fit(x_train,y_train)"
   ]
  },
  {
   "cell_type": "code",
   "execution_count": 89,
   "id": "9a6220b3",
   "metadata": {},
   "outputs": [],
   "source": [
    "pred2=mod2.predict(x_test)"
   ]
  },
  {
   "cell_type": "code",
   "execution_count": 90,
   "id": "0437d0fe",
   "metadata": {},
   "outputs": [
    {
     "data": {
      "text/plain": [
       "0.2489387269997564"
      ]
     },
     "execution_count": 90,
     "metadata": {},
     "output_type": "execute_result"
    }
   ],
   "source": [
    "r2_score(y_test,pred2)"
   ]
  },
  {
   "cell_type": "code",
   "execution_count": 361,
   "id": "782b1017",
   "metadata": {},
   "outputs": [
    {
     "data": {
      "text/plain": [
       "204.16236066713537"
      ]
     },
     "execution_count": 361,
     "metadata": {},
     "output_type": "execute_result"
    }
   ],
   "source": [
    "errors = list()\n",
    "for i in range(len(y_test)):\n",
    "\t# calculate error\n",
    "\terr = (pred2[i] - y_test[i])**2\n",
    "\t# store error\n",
    "\terrors.append(err)\n",
    "\n",
    "np.sum(errors)"
   ]
  },
  {
   "cell_type": "markdown",
   "id": "795ea390",
   "metadata": {},
   "source": [
    "# Linear Regression Model"
   ]
  },
  {
   "cell_type": "code",
   "execution_count": 33,
   "id": "b67b9a87",
   "metadata": {},
   "outputs": [],
   "source": [
    "from sklearn.linear_model import LinearRegression"
   ]
  },
  {
   "cell_type": "code",
   "execution_count": 34,
   "id": "90b3f0b4",
   "metadata": {},
   "outputs": [],
   "source": [
    "mod3=LinearRegression()"
   ]
  },
  {
   "cell_type": "code",
   "execution_count": 35,
   "id": "c8e70eac",
   "metadata": {},
   "outputs": [
    {
     "data": {
      "text/plain": [
       "LinearRegression()"
      ]
     },
     "execution_count": 35,
     "metadata": {},
     "output_type": "execute_result"
    }
   ],
   "source": [
    "mod3.fit(x_train,y_train)"
   ]
  },
  {
   "cell_type": "code",
   "execution_count": 40,
   "id": "fece9546",
   "metadata": {},
   "outputs": [],
   "source": [
    " from sklearn.metrics import r2_score"
   ]
  },
  {
   "cell_type": "code",
   "execution_count": 41,
   "id": "219082df",
   "metadata": {},
   "outputs": [],
   "source": [
    "pred3=mod3.predict(x_test)"
   ]
  },
  {
   "cell_type": "code",
   "execution_count": 42,
   "id": "74b8758a",
   "metadata": {},
   "outputs": [
    {
     "data": {
      "text/plain": [
       "0.17345450511990756"
      ]
     },
     "execution_count": 42,
     "metadata": {},
     "output_type": "execute_result"
    }
   ],
   "source": [
    "r2_score(y_test,pred3)"
   ]
  },
  {
   "cell_type": "code",
   "execution_count": 92,
   "id": "dabb1616",
   "metadata": {},
   "outputs": [
    {
     "data": {
      "text/plain": [
       "0.17616982602341566"
      ]
     },
     "execution_count": 92,
     "metadata": {},
     "output_type": "execute_result"
    }
   ],
   "source": [
    "errors = list()\n",
    "for i in range(len(y_test)):\n",
    "\t# calculate error\n",
    "\terr = (pred3[i] - y_test[i])**2\n",
    "\t# store error\n",
    "\terrors.append(err)\n",
    "np.sum(errors)/50000"
   ]
  },
  {
   "cell_type": "code",
   "execution_count": 37,
   "id": "fff15310",
   "metadata": {},
   "outputs": [
    {
     "ename": "NameError",
     "evalue": "name 'predictors' is not defined",
     "output_type": "error",
     "traceback": [
      "\u001b[0;31m---------------------------------------------------------------------------\u001b[0m",
      "\u001b[0;31mNameError\u001b[0m                                 Traceback (most recent call last)",
      "Input \u001b[0;32mIn [37]\u001b[0m, in \u001b[0;36m<cell line: 1>\u001b[0;34m()\u001b[0m\n\u001b[0;32m----> 1\u001b[0m feature_name\u001b[38;5;241m=\u001b[39m\u001b[43mpredictors\u001b[49m\u001b[38;5;241m.\u001b[39mcolumns\u001b[38;5;241m.\u001b[39mvalues\n\u001b[1;32m      2\u001b[0m summary_table\u001b[38;5;241m=\u001b[39mpd\u001b[38;5;241m.\u001b[39mDataFrame(columns\u001b[38;5;241m=\u001b[39m[\u001b[38;5;124m'\u001b[39m\u001b[38;5;124mFeatureName\u001b[39m\u001b[38;5;124m'\u001b[39m],data\u001b[38;5;241m=\u001b[39mfeature_name)\n\u001b[1;32m      3\u001b[0m summary_table[\u001b[38;5;124m'\u001b[39m\u001b[38;5;124mCoefficients\u001b[39m\u001b[38;5;124m'\u001b[39m]\u001b[38;5;241m=\u001b[39mnp\u001b[38;5;241m.\u001b[39mtranspose(mod3\u001b[38;5;241m.\u001b[39mcoef_)\n",
      "\u001b[0;31mNameError\u001b[0m: name 'predictors' is not defined"
     ]
    }
   ],
   "source": [
    "feature_name=predictors.columns.values\n",
    "summary_table=pd.DataFrame(columns=['FeatureName'],data=feature_name)\n",
    "summary_table['Coefficients']=np.transpose(mod3.coef_)\n",
    "summary_table"
   ]
  },
  {
   "cell_type": "markdown",
   "id": "a4b8c552",
   "metadata": {},
   "source": [
    "## Results\n",
    "\n",
    "### When we compare the SVM and Decision tree models, we can observe \n",
    "### that the Decision tree outperforms the SVM in forecasting income given the predictor variables.\n",
    "### Because the decision tree model's sum squared residuals are substantially less.\n",
    "\n",
    "### Looking at the results of the linear regression model, we can see that age was\n",
    "### the most important factor in predicting income. Furthermore, the factors occupation and \n",
    "### industry have an impact on income. However, there is little wage disparity between genders.\n"
   ]
  },
  {
   "cell_type": "code",
   "execution_count": 48,
   "id": "049d3633",
   "metadata": {},
   "outputs": [],
   "source": [
    "from sklearn.neighbors import KNeighborsRegressor"
   ]
  },
  {
   "cell_type": "code",
   "execution_count": 61,
   "id": "d31d7733",
   "metadata": {},
   "outputs": [],
   "source": [
    "mod4=KNeighborsRegressor(n_neighbors=9)"
   ]
  },
  {
   "cell_type": "code",
   "execution_count": 62,
   "id": "e5d41e65",
   "metadata": {},
   "outputs": [
    {
     "data": {
      "text/plain": [
       "KNeighborsRegressor(n_neighbors=9)"
      ]
     },
     "execution_count": 62,
     "metadata": {},
     "output_type": "execute_result"
    }
   ],
   "source": [
    "mod4.fit(x_train,y_train)"
   ]
  },
  {
   "cell_type": "code",
   "execution_count": 63,
   "id": "4192e6bf",
   "metadata": {},
   "outputs": [],
   "source": [
    "pred4=mod4.predict(x_test)"
   ]
  },
  {
   "cell_type": "code",
   "execution_count": 64,
   "id": "85e88888",
   "metadata": {},
   "outputs": [
    {
     "data": {
      "text/plain": [
       "0.20098404992851093"
      ]
     },
     "execution_count": 64,
     "metadata": {},
     "output_type": "execute_result"
    }
   ],
   "source": [
    "r2_score(y_test,pred4)"
   ]
  },
  {
   "cell_type": "code",
   "execution_count": null,
   "id": "4c9db8a9",
   "metadata": {},
   "outputs": [],
   "source": []
  }
 ],
 "metadata": {
  "kernelspec": {
   "display_name": "Python 3 (ipykernel)",
   "language": "python",
   "name": "python3"
  },
  "language_info": {
   "codemirror_mode": {
    "name": "ipython",
    "version": 3
   },
   "file_extension": ".py",
   "mimetype": "text/x-python",
   "name": "python",
   "nbconvert_exporter": "python",
   "pygments_lexer": "ipython3",
   "version": "3.9.10"
  }
 },
 "nbformat": 4,
 "nbformat_minor": 5
}
