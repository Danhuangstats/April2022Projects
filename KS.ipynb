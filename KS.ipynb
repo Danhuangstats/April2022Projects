{
 "cells": [
  {
   "cell_type": "code",
   "execution_count": 23,
   "id": "d236ffca",
   "metadata": {},
   "outputs": [],
   "source": [
    "import pandas as pd \n",
    "import pymysql"
   ]
  },
  {
   "cell_type": "code",
   "execution_count": 24,
   "id": "ab1030f2",
   "metadata": {},
   "outputs": [],
   "source": [
    "import mysql.connector"
   ]
  },
  {
   "cell_type": "code",
   "execution_count": 25,
   "id": "93cbadf8",
   "metadata": {},
   "outputs": [],
   "source": [
    "mydb = mysql.connector.connect(\n",
    "  host=\"localhost\",\n",
    "  user=\"root\",\n",
    "  password=\"danhuang8023\",\n",
    "  database=\"brainstation\"\n",
    ")"
   ]
  },
  {
   "cell_type": "code",
   "execution_count": 26,
   "id": "931e6fbb",
   "metadata": {},
   "outputs": [],
   "source": [
    "cursor = mydb.cursor()"
   ]
  },
  {
   "cell_type": "code",
   "execution_count": 27,
   "id": "922f3ac8",
   "metadata": {},
   "outputs": [],
   "source": [
    "cursor.execute(\"Show tables;\")"
   ]
  },
  {
   "cell_type": "code",
   "execution_count": 28,
   "id": "5c0e2a89",
   "metadata": {},
   "outputs": [],
   "source": [
    "query=(\"select * from category\")"
   ]
  },
  {
   "cell_type": "code",
   "execution_count": 29,
   "id": "5add4e01",
   "metadata": {},
   "outputs": [
    {
     "data": {
      "text/plain": [
       "'select * from category'"
      ]
     },
     "execution_count": 29,
     "metadata": {},
     "output_type": "execute_result"
    }
   ],
   "source": [
    "query"
   ]
  },
  {
   "cell_type": "code",
   "execution_count": null,
   "id": "4c2f2bd8",
   "metadata": {},
   "outputs": [],
   "source": []
  }
 ],
 "metadata": {
  "kernelspec": {
   "display_name": "Python 3 (ipykernel)",
   "language": "python",
   "name": "python3"
  },
  "language_info": {
   "codemirror_mode": {
    "name": "ipython",
    "version": 3
   },
   "file_extension": ".py",
   "mimetype": "text/x-python",
   "name": "python",
   "nbconvert_exporter": "python",
   "pygments_lexer": "ipython3",
   "version": "3.9.10"
  }
 },
 "nbformat": 4,
 "nbformat_minor": 5
}
