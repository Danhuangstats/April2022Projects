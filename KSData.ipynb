{
 "cells": [
  {
   "cell_type": "code",
   "execution_count": 1,
   "id": "1f4d9f79",
   "metadata": {},
   "outputs": [],
   "source": [
    "import mysql.connector"
   ]
  },
  {
   "cell_type": "code",
   "execution_count": 2,
   "id": "58f519b0",
   "metadata": {},
   "outputs": [],
   "source": [
    "import pandas as pd"
   ]
  },
  {
   "cell_type": "code",
   "execution_count": 7,
   "id": "7ed99023",
   "metadata": {},
   "outputs": [],
   "source": [
    "import io"
   ]
  },
  {
   "cell_type": "code",
   "execution_count": 8,
   "id": "effa796e",
   "metadata": {},
   "outputs": [],
   "source": [
    "from io import StringIO"
   ]
  },
  {
   "cell_type": "code",
   "execution_count": 33,
   "id": "ca341ca4",
   "metadata": {},
   "outputs": [],
   "source": [
    "import pandas as pd\n",
    "import re\n",
    "import os.path\n",
    "import csv\n",
    "import logging\n",
    "import sys\n",
    "\n",
    "\n",
    "def convert_dump_to_intermediate_csv(dump_filename, csv_header, csv_out_put_file, delete_csv_file_after_read=True):\n",
    "    \"\"\"\n",
    "    :param dump_filename: five an mysql export dump (mysqldump...syntax)\n",
    "    :param csv_header: the very first line in the csv file which should appear, give a string separated by coma\n",
    "    :param csv_out_put_file: the name of the csv file\n",
    "    :param delete_csv_file_after_read: if you set this to False, no new records will be written as the file exists.\n",
    "    :return: returns a pandas dataframe for further analysis.\n",
    "    \"\"\"\n",
    "    with open(dump_filename, 'r') as f:\n",
    "        for line in f:\n",
    "            pre_compiled_all_values_per_line = re.compile('(?:INSERT\\sINTO\\s\\S[a-z\\S]+\\sVALUES\\s+)(?P<values>.*)(?=\\;)')\n",
    "            result = pre_compiled_all_values_per_line.finditer(line)\n",
    "            for element in result:\n",
    "                values_only = element.groups('values')[0]\n",
    "                value_compile = re.compile('\\(.*?\\)')\n",
    "                all_identified = value_compile.finditer(values_only)\n",
    "                for single_values in all_identified:\n",
    "                    string_to_split = single_values.group(0)[1:-1]\n",
    "                    string_array = string_to_split.split(\",\")\n",
    "\n",
    "                    if not os.path.exists(csv_out_put_file):\n",
    "                        with open(csv_out_put_file, 'w', newline='') as file:\n",
    "                            writer = csv.writer(file)\n",
    "                            writer.writerow(csv_header.split(\",\"))\n",
    "                            writer.writerow(string_array)\n",
    "                    else:\n",
    "                        with open(csv_out_put_file, 'a', newline='') as file:\n",
    "                            writer = csv.writer(file)\n",
    "                            writer.writerow(string_array)\n",
    "    df = pd.read_csv(csv_out_put_file)\n",
    "    if delete_csv_file_after_read:\n",
    "        os.remove(csv_out_put_file)\n",
    "    return df\n"
   ]
  },
  {
   "cell_type": "code",
   "execution_count": 34,
   "id": "a6287f1c",
   "metadata": {},
   "outputs": [],
   "source": [
    "if __name__ == \"__main__\":\n",
    "    log_name = 'test.log'\n",
    "    LOGGER = logging.getLogger(log_name)\n",
    "    LOGGER.setLevel(logging.DEBUG)\n",
    "    LOGGER.addHandler(logging.NullHandler())\n",
    "    FORMATTER = logging.Formatter(\n",
    "        fmt='%(asctime)s %(levelname)-8s %(message)s',\n",
    "        datefmt='%Y-%m-%d %H:%M:%S')\n",
    "    SCREEN_HANDLER = logging.StreamHandler(stream=sys.stdout)\n",
    "    SCREEN_HANDLER.setFormatter(FORMATTER)\n",
    "    LOGGER.addHandler(SCREEN_HANDLER)"
   ]
  },
  {
   "cell_type": "code",
   "execution_count": 40,
   "id": "d609c5c1",
   "metadata": {},
   "outputs": [],
   "source": [
    "dump_filename = './ks-data.sql'\n",
    "header_of_csv_file = \"id,name,sub_category_id,contry_id,currency_id,launched,deadline,goal,pledged,backers,outcome\" # i did not identify the columns in the table definition...\n",
    "csv_output_file = 'campaign2.csv'"
   ]
  },
  {
   "cell_type": "markdown",
   "id": "92d2452e",
   "metadata": {},
   "source": [
    "## Read Data"
   ]
  },
  {
   "cell_type": "code",
   "execution_count": 300,
   "id": "b9c89802",
   "metadata": {},
   "outputs": [],
   "source": [
    "data=pd.read_csv('./campaign2.csv',on_bad_lines='skip')"
   ]
  },
  {
   "cell_type": "code",
   "execution_count": 301,
   "id": "7c602ce2",
   "metadata": {},
   "outputs": [
    {
     "data": {
      "text/html": [
       "<div>\n",
       "<style scoped>\n",
       "    .dataframe tbody tr th:only-of-type {\n",
       "        vertical-align: middle;\n",
       "    }\n",
       "\n",
       "    .dataframe tbody tr th {\n",
       "        vertical-align: top;\n",
       "    }\n",
       "\n",
       "    .dataframe thead th {\n",
       "        text-align: right;\n",
       "    }\n",
       "</style>\n",
       "<table border=\"1\" class=\"dataframe\">\n",
       "  <thead>\n",
       "    <tr style=\"text-align: right;\">\n",
       "      <th></th>\n",
       "      <th>id</th>\n",
       "      <th>name</th>\n",
       "      <th>sub_category_id</th>\n",
       "      <th>contry_id</th>\n",
       "      <th>currency_id</th>\n",
       "      <th>launched</th>\n",
       "      <th>deadline</th>\n",
       "      <th>goal</th>\n",
       "      <th>pledged</th>\n",
       "      <th>backers</th>\n",
       "      <th>outcome</th>\n",
       "    </tr>\n",
       "  </thead>\n",
       "  <tbody>\n",
       "    <tr>\n",
       "      <th>0</th>\n",
       "      <td>1</td>\n",
       "      <td>'Ragdolls'</td>\n",
       "      <td>23</td>\n",
       "      <td>2</td>\n",
       "      <td>2</td>\n",
       "      <td>'2013-04-25 00:00:00'</td>\n",
       "      <td>'2013-05-25 00:00:00'</td>\n",
       "      <td>15000.00</td>\n",
       "      <td>20.00</td>\n",
       "      <td>3</td>\n",
       "      <td>'failed'</td>\n",
       "    </tr>\n",
       "    <tr>\n",
       "      <th>1</th>\n",
       "      <td>2</td>\n",
       "      <td>'One To Ten'</td>\n",
       "      <td>47</td>\n",
       "      <td>1</td>\n",
       "      <td>1</td>\n",
       "      <td>'2015-11-16 00:00:00'</td>\n",
       "      <td>'2015-12-16 00:00:00'</td>\n",
       "      <td>223.68</td>\n",
       "      <td>413.81</td>\n",
       "      <td>23</td>\n",
       "      <td>'successful'</td>\n",
       "    </tr>\n",
       "    <tr>\n",
       "      <th>2</th>\n",
       "      <td>3</td>\n",
       "      <td>'Future Gun - A short film about kids and adva...</td>\n",
       "      <td>24</td>\n",
       "      <td>2</td>\n",
       "      <td>2</td>\n",
       "      <td>'2013-08-28 00:00:00'</td>\n",
       "      <td>'2013-09-27 00:00:00'</td>\n",
       "      <td>5000.00</td>\n",
       "      <td>1497.00</td>\n",
       "      <td>28</td>\n",
       "      <td>'failed'</td>\n",
       "    </tr>\n",
       "    <tr>\n",
       "      <th>3</th>\n",
       "      <td>4</td>\n",
       "      <td>'Fourth Wave Apparel—Vintage Fashion for the M...</td>\n",
       "      <td>52</td>\n",
       "      <td>2</td>\n",
       "      <td>2</td>\n",
       "      <td>'2014-07-22 00:00:00'</td>\n",
       "      <td>'2014-08-21 00:00:00'</td>\n",
       "      <td>6000.00</td>\n",
       "      <td>8795.00</td>\n",
       "      <td>218</td>\n",
       "      <td>'successful'</td>\n",
       "    </tr>\n",
       "    <tr>\n",
       "      <th>4</th>\n",
       "      <td>5</td>\n",
       "      <td>'The Rich Lifestyle'</td>\n",
       "      <td>9</td>\n",
       "      <td>2</td>\n",
       "      <td>2</td>\n",
       "      <td>'2016-08-24 00:00:00'</td>\n",
       "      <td>'2016-09-28 00:00:00'</td>\n",
       "      <td>2000000.00</td>\n",
       "      <td>2.00</td>\n",
       "      <td>2</td>\n",
       "      <td>'failed'</td>\n",
       "    </tr>\n",
       "  </tbody>\n",
       "</table>\n",
       "</div>"
      ],
      "text/plain": [
       "  id                                               name sub_category_id  \\\n",
       "0  1                                         'Ragdolls'              23   \n",
       "1  2                                       'One To Ten'              47   \n",
       "2  3  'Future Gun - A short film about kids and adva...              24   \n",
       "3  4  'Fourth Wave Apparel—Vintage Fashion for the M...              52   \n",
       "4  5                               'The Rich Lifestyle'               9   \n",
       "\n",
       "  contry_id currency_id               launched               deadline  \\\n",
       "0         2           2  '2013-04-25 00:00:00'  '2013-05-25 00:00:00'   \n",
       "1         1           1  '2015-11-16 00:00:00'  '2015-12-16 00:00:00'   \n",
       "2         2           2  '2013-08-28 00:00:00'  '2013-09-27 00:00:00'   \n",
       "3         2           2  '2014-07-22 00:00:00'  '2014-08-21 00:00:00'   \n",
       "4         2           2  '2016-08-24 00:00:00'  '2016-09-28 00:00:00'   \n",
       "\n",
       "         goal  pledged backers       outcome  \n",
       "0    15000.00    20.00       3      'failed'  \n",
       "1      223.68   413.81      23  'successful'  \n",
       "2     5000.00  1497.00      28      'failed'  \n",
       "3     6000.00  8795.00     218  'successful'  \n",
       "4  2000000.00     2.00       2      'failed'  "
      ]
     },
     "execution_count": 301,
     "metadata": {},
     "output_type": "execute_result"
    }
   ],
   "source": [
    "data.head()"
   ]
  },
  {
   "cell_type": "code",
   "execution_count": 302,
   "id": "6dd7e204",
   "metadata": {},
   "outputs": [],
   "source": [
    "data=data.dropna(axis=0,how='any')"
   ]
  },
  {
   "cell_type": "code",
   "execution_count": 303,
   "id": "39ea4c03",
   "metadata": {},
   "outputs": [
    {
     "data": {
      "text/html": [
       "<div>\n",
       "<style scoped>\n",
       "    .dataframe tbody tr th:only-of-type {\n",
       "        vertical-align: middle;\n",
       "    }\n",
       "\n",
       "    .dataframe tbody tr th {\n",
       "        vertical-align: top;\n",
       "    }\n",
       "\n",
       "    .dataframe thead th {\n",
       "        text-align: right;\n",
       "    }\n",
       "</style>\n",
       "<table border=\"1\" class=\"dataframe\">\n",
       "  <thead>\n",
       "    <tr style=\"text-align: right;\">\n",
       "      <th></th>\n",
       "      <th>id</th>\n",
       "      <th>name</th>\n",
       "      <th>sub_category_id</th>\n",
       "      <th>contry_id</th>\n",
       "      <th>currency_id</th>\n",
       "      <th>launched</th>\n",
       "      <th>deadline</th>\n",
       "      <th>goal</th>\n",
       "      <th>pledged</th>\n",
       "      <th>backers</th>\n",
       "      <th>outcome</th>\n",
       "    </tr>\n",
       "  </thead>\n",
       "  <tbody>\n",
       "    <tr>\n",
       "      <th>0</th>\n",
       "      <td>1</td>\n",
       "      <td>'Ragdolls'</td>\n",
       "      <td>23</td>\n",
       "      <td>2</td>\n",
       "      <td>2</td>\n",
       "      <td>'2013-04-25 00:00:00'</td>\n",
       "      <td>'2013-05-25 00:00:00'</td>\n",
       "      <td>15000.00</td>\n",
       "      <td>20.00</td>\n",
       "      <td>3</td>\n",
       "      <td>'failed'</td>\n",
       "    </tr>\n",
       "    <tr>\n",
       "      <th>1</th>\n",
       "      <td>2</td>\n",
       "      <td>'One To Ten'</td>\n",
       "      <td>47</td>\n",
       "      <td>1</td>\n",
       "      <td>1</td>\n",
       "      <td>'2015-11-16 00:00:00'</td>\n",
       "      <td>'2015-12-16 00:00:00'</td>\n",
       "      <td>223.68</td>\n",
       "      <td>413.81</td>\n",
       "      <td>23</td>\n",
       "      <td>'successful'</td>\n",
       "    </tr>\n",
       "    <tr>\n",
       "      <th>2</th>\n",
       "      <td>3</td>\n",
       "      <td>'Future Gun - A short film about kids and adva...</td>\n",
       "      <td>24</td>\n",
       "      <td>2</td>\n",
       "      <td>2</td>\n",
       "      <td>'2013-08-28 00:00:00'</td>\n",
       "      <td>'2013-09-27 00:00:00'</td>\n",
       "      <td>5000.00</td>\n",
       "      <td>1497.00</td>\n",
       "      <td>28</td>\n",
       "      <td>'failed'</td>\n",
       "    </tr>\n",
       "    <tr>\n",
       "      <th>3</th>\n",
       "      <td>4</td>\n",
       "      <td>'Fourth Wave Apparel—Vintage Fashion for the M...</td>\n",
       "      <td>52</td>\n",
       "      <td>2</td>\n",
       "      <td>2</td>\n",
       "      <td>'2014-07-22 00:00:00'</td>\n",
       "      <td>'2014-08-21 00:00:00'</td>\n",
       "      <td>6000.00</td>\n",
       "      <td>8795.00</td>\n",
       "      <td>218</td>\n",
       "      <td>'successful'</td>\n",
       "    </tr>\n",
       "    <tr>\n",
       "      <th>4</th>\n",
       "      <td>5</td>\n",
       "      <td>'The Rich Lifestyle'</td>\n",
       "      <td>9</td>\n",
       "      <td>2</td>\n",
       "      <td>2</td>\n",
       "      <td>'2016-08-24 00:00:00'</td>\n",
       "      <td>'2016-09-28 00:00:00'</td>\n",
       "      <td>2000000.00</td>\n",
       "      <td>2.00</td>\n",
       "      <td>2</td>\n",
       "      <td>'failed'</td>\n",
       "    </tr>\n",
       "  </tbody>\n",
       "</table>\n",
       "</div>"
      ],
      "text/plain": [
       "  id                                               name sub_category_id  \\\n",
       "0  1                                         'Ragdolls'              23   \n",
       "1  2                                       'One To Ten'              47   \n",
       "2  3  'Future Gun - A short film about kids and adva...              24   \n",
       "3  4  'Fourth Wave Apparel—Vintage Fashion for the M...              52   \n",
       "4  5                               'The Rich Lifestyle'               9   \n",
       "\n",
       "  contry_id currency_id               launched               deadline  \\\n",
       "0         2           2  '2013-04-25 00:00:00'  '2013-05-25 00:00:00'   \n",
       "1         1           1  '2015-11-16 00:00:00'  '2015-12-16 00:00:00'   \n",
       "2         2           2  '2013-08-28 00:00:00'  '2013-09-27 00:00:00'   \n",
       "3         2           2  '2014-07-22 00:00:00'  '2014-08-21 00:00:00'   \n",
       "4         2           2  '2016-08-24 00:00:00'  '2016-09-28 00:00:00'   \n",
       "\n",
       "         goal  pledged backers       outcome  \n",
       "0    15000.00    20.00       3      'failed'  \n",
       "1      223.68   413.81      23  'successful'  \n",
       "2     5000.00  1497.00      28      'failed'  \n",
       "3     6000.00  8795.00     218  'successful'  \n",
       "4  2000000.00     2.00       2      'failed'  "
      ]
     },
     "execution_count": 303,
     "metadata": {},
     "output_type": "execute_result"
    }
   ],
   "source": [
    "data=pd.DataFrame(data)\n",
    "data.head()"
   ]
  },
  {
   "cell_type": "markdown",
   "id": "8c068d80",
   "metadata": {},
   "source": [
    "## Part 1 - Conduct a Preliminary Data Analysis"
   ]
  },
  {
   "cell_type": "code",
   "execution_count": 304,
   "id": "22776666",
   "metadata": {},
   "outputs": [],
   "source": [
    "from scipy import stats"
   ]
  },
  {
   "cell_type": "code",
   "execution_count": 305,
   "id": "484043ef",
   "metadata": {},
   "outputs": [
    {
     "data": {
      "text/plain": [
       "Index(['id', 'name', 'sub_category_id', 'contry_id', 'currency_id', 'launched',\n",
       "       'deadline', 'goal', 'pledged', 'backers', 'outcome'],\n",
       "      dtype='object')"
      ]
     },
     "execution_count": 305,
     "metadata": {},
     "output_type": "execute_result"
    }
   ],
   "source": [
    "data.columns"
   ]
  },
  {
   "cell_type": "code",
   "execution_count": 313,
   "id": "c0f7cb67",
   "metadata": {},
   "outputs": [],
   "source": [
    "data['outcome']=data['outcome'].astype('category')\n",
    "data['name']=data['name'].astype('category')\n",
    "data[['sub_category_id', 'contry_id', 'currency_id']]=data[['sub_category_id', 'contry_id', 'currency_id']].astype('int32')"
   ]
  },
  {
   "cell_type": "code",
   "execution_count": 314,
   "id": "12dcc57e",
   "metadata": {},
   "outputs": [],
   "source": [
    "data['backers']=pd.to_numeric(data['backers'])"
   ]
  },
  {
   "cell_type": "code",
   "execution_count": 315,
   "id": "35995afc",
   "metadata": {},
   "outputs": [
    {
     "data": {
      "text/plain": [
       "id                   object\n",
       "name               category\n",
       "sub_category_id       int32\n",
       "contry_id             int32\n",
       "currency_id           int32\n",
       "launched             object\n",
       "deadline             object\n",
       "goal                float64\n",
       "pledged             float64\n",
       "backers               int64\n",
       "outcome            category\n",
       "dtype: object"
      ]
     },
     "execution_count": 315,
     "metadata": {},
     "output_type": "execute_result"
    }
   ],
   "source": [
    "data.dtypes"
   ]
  },
  {
   "cell_type": "code",
   "execution_count": 318,
   "id": "4c512ffd",
   "metadata": {},
   "outputs": [],
   "source": [
    "out=data.groupby(['outcome']).agg({'backers':'count'})"
   ]
  },
  {
   "cell_type": "code",
   "execution_count": 319,
   "id": "094353bf",
   "metadata": {},
   "outputs": [
    {
     "data": {
      "text/html": [
       "<div>\n",
       "<style scoped>\n",
       "    .dataframe tbody tr th:only-of-type {\n",
       "        vertical-align: middle;\n",
       "    }\n",
       "\n",
       "    .dataframe tbody tr th {\n",
       "        vertical-align: top;\n",
       "    }\n",
       "\n",
       "    .dataframe thead th {\n",
       "        text-align: right;\n",
       "    }\n",
       "</style>\n",
       "<table border=\"1\" class=\"dataframe\">\n",
       "  <thead>\n",
       "    <tr style=\"text-align: right;\">\n",
       "      <th></th>\n",
       "      <th>backers</th>\n",
       "    </tr>\n",
       "    <tr>\n",
       "      <th>outcome</th>\n",
       "      <th></th>\n",
       "    </tr>\n",
       "  </thead>\n",
       "  <tbody>\n",
       "    <tr>\n",
       "      <th>'failed'</th>\n",
       "      <td>7134</td>\n",
       "    </tr>\n",
       "    <tr>\n",
       "      <th>'successful'</th>\n",
       "      <td>4808</td>\n",
       "    </tr>\n",
       "    <tr>\n",
       "      <th>'canceled'</th>\n",
       "      <td>522</td>\n",
       "    </tr>\n",
       "  </tbody>\n",
       "</table>\n",
       "</div>"
      ],
      "text/plain": [
       "              backers\n",
       "outcome              \n",
       "'failed'         7134\n",
       "'successful'     4808\n",
       "'canceled'        522"
      ]
     },
     "execution_count": 319,
     "metadata": {},
     "output_type": "execute_result"
    }
   ],
   "source": [
    "res = out.apply(lambda x: x.sort_values(ascending=False).head(3))\n",
    "res"
   ]
  },
  {
   "cell_type": "code",
   "execution_count": 127,
   "id": "3e6e505e",
   "metadata": {},
   "outputs": [
    {
     "data": {
      "text/html": [
       "<div>\n",
       "<style scoped>\n",
       "    .dataframe tbody tr th:only-of-type {\n",
       "        vertical-align: middle;\n",
       "    }\n",
       "\n",
       "    .dataframe tbody tr th {\n",
       "        vertical-align: top;\n",
       "    }\n",
       "\n",
       "    .dataframe thead th {\n",
       "        text-align: right;\n",
       "    }\n",
       "</style>\n",
       "<table border=\"1\" class=\"dataframe\">\n",
       "  <thead>\n",
       "    <tr style=\"text-align: right;\">\n",
       "      <th></th>\n",
       "      <th>backers</th>\n",
       "    </tr>\n",
       "    <tr>\n",
       "      <th>outcome</th>\n",
       "      <th></th>\n",
       "    </tr>\n",
       "  </thead>\n",
       "  <tbody>\n",
       "    <tr>\n",
       "      <th>'suspended'</th>\n",
       "      <td>24</td>\n",
       "    </tr>\n",
       "    <tr>\n",
       "      <th>'live'</th>\n",
       "      <td>96</td>\n",
       "    </tr>\n",
       "    <tr>\n",
       "      <th>'undefined'</th>\n",
       "      <td>130</td>\n",
       "    </tr>\n",
       "  </tbody>\n",
       "</table>\n",
       "</div>"
      ],
      "text/plain": [
       "             backers\n",
       "outcome             \n",
       "'suspended'       24\n",
       "'live'            96\n",
       "'undefined'      130"
      ]
     },
     "execution_count": 127,
     "metadata": {},
     "output_type": "execute_result"
    }
   ],
   "source": [
    "res = out.apply(lambda x: x.sort_values(ascending=True).head(3))\n",
    "res"
   ]
  },
  {
   "cell_type": "code",
   "execution_count": 153,
   "id": "3cf5ef72",
   "metadata": {},
   "outputs": [],
   "source": [
    "sub=data.groupby(['sub_category_id']).agg({'backers':'count'})"
   ]
  },
  {
   "cell_type": "code",
   "execution_count": 154,
   "id": "90ea2c09",
   "metadata": {},
   "outputs": [
    {
     "data": {
      "text/html": [
       "<div>\n",
       "<style scoped>\n",
       "    .dataframe tbody tr th:only-of-type {\n",
       "        vertical-align: middle;\n",
       "    }\n",
       "\n",
       "    .dataframe tbody tr th {\n",
       "        vertical-align: top;\n",
       "    }\n",
       "\n",
       "    .dataframe thead th {\n",
       "        text-align: right;\n",
       "    }\n",
       "</style>\n",
       "<table border=\"1\" class=\"dataframe\">\n",
       "  <thead>\n",
       "    <tr style=\"text-align: right;\">\n",
       "      <th></th>\n",
       "      <th>backers</th>\n",
       "    </tr>\n",
       "    <tr>\n",
       "      <th>sub_category_id</th>\n",
       "      <th></th>\n",
       "    </tr>\n",
       "  </thead>\n",
       "  <tbody>\n",
       "    <tr>\n",
       "      <th>8</th>\n",
       "      <td>802</td>\n",
       "    </tr>\n",
       "    <tr>\n",
       "      <th>9</th>\n",
       "      <td>587</td>\n",
       "    </tr>\n",
       "    <tr>\n",
       "      <th>3</th>\n",
       "      <td>552</td>\n",
       "    </tr>\n",
       "  </tbody>\n",
       "</table>\n",
       "</div>"
      ],
      "text/plain": [
       "                 backers\n",
       "sub_category_id         \n",
       "8                    802\n",
       "9                    587\n",
       "3                    552"
      ]
     },
     "execution_count": 154,
     "metadata": {},
     "output_type": "execute_result"
    }
   ],
   "source": [
    "res = sub.apply(lambda x: x.sort_values(ascending=False).head(3))\n",
    "res"
   ]
  },
  {
   "cell_type": "code",
   "execution_count": 150,
   "id": "98326a8c",
   "metadata": {},
   "outputs": [
    {
     "data": {
      "text/html": [
       "<div>\n",
       "<style scoped>\n",
       "    .dataframe tbody tr th:only-of-type {\n",
       "        vertical-align: middle;\n",
       "    }\n",
       "\n",
       "    .dataframe tbody tr th {\n",
       "        vertical-align: top;\n",
       "    }\n",
       "\n",
       "    .dataframe thead th {\n",
       "        text-align: right;\n",
       "    }\n",
       "</style>\n",
       "<table border=\"1\" class=\"dataframe\">\n",
       "  <thead>\n",
       "    <tr style=\"text-align: right;\">\n",
       "      <th></th>\n",
       "      <th>goal</th>\n",
       "    </tr>\n",
       "    <tr>\n",
       "      <th>outcome</th>\n",
       "      <th></th>\n",
       "    </tr>\n",
       "  </thead>\n",
       "  <tbody>\n",
       "    <tr>\n",
       "      <th>'failed'</th>\n",
       "      <td>7.275420e+08</td>\n",
       "    </tr>\n",
       "    <tr>\n",
       "      <th>'canceled'</th>\n",
       "      <td>1.067596e+08</td>\n",
       "    </tr>\n",
       "    <tr>\n",
       "      <th>'successful'</th>\n",
       "      <td>4.646728e+07</td>\n",
       "    </tr>\n",
       "  </tbody>\n",
       "</table>\n",
       "</div>"
      ],
      "text/plain": [
       "                      goal\n",
       "outcome                   \n",
       "'failed'      7.275420e+08\n",
       "'canceled'    1.067596e+08\n",
       "'successful'  4.646728e+07"
      ]
     },
     "execution_count": 150,
     "metadata": {},
     "output_type": "execute_result"
    }
   ],
   "source": [
    "money=data.groupby(['outcome']).agg({'goal':'sum'})\n",
    "res = money.apply(lambda x: x.sort_values(ascending=False).head(3))\n",
    "res"
   ]
  },
  {
   "cell_type": "code",
   "execution_count": 131,
   "id": "c9e7b8bd",
   "metadata": {},
   "outputs": [
    {
     "data": {
      "text/html": [
       "<div>\n",
       "<style scoped>\n",
       "    .dataframe tbody tr th:only-of-type {\n",
       "        vertical-align: middle;\n",
       "    }\n",
       "\n",
       "    .dataframe tbody tr th {\n",
       "        vertical-align: top;\n",
       "    }\n",
       "\n",
       "    .dataframe thead th {\n",
       "        text-align: right;\n",
       "    }\n",
       "</style>\n",
       "<table border=\"1\" class=\"dataframe\">\n",
       "  <thead>\n",
       "    <tr style=\"text-align: right;\">\n",
       "      <th></th>\n",
       "      <th>goal</th>\n",
       "    </tr>\n",
       "    <tr>\n",
       "      <th>sub_category_id</th>\n",
       "      <th></th>\n",
       "    </tr>\n",
       "  </thead>\n",
       "  <tbody>\n",
       "    <tr>\n",
       "      <th>58</th>\n",
       "      <td>1.205218e+08</td>\n",
       "    </tr>\n",
       "    <tr>\n",
       "      <th>4</th>\n",
       "      <td>1.189281e+08</td>\n",
       "    </tr>\n",
       "    <tr>\n",
       "      <th>9</th>\n",
       "      <td>1.176007e+08</td>\n",
       "    </tr>\n",
       "  </tbody>\n",
       "</table>\n",
       "</div>"
      ],
      "text/plain": [
       "                         goal\n",
       "sub_category_id              \n",
       "58               1.205218e+08\n",
       "4                1.189281e+08\n",
       "9                1.176007e+08"
      ]
     },
     "execution_count": 131,
     "metadata": {},
     "output_type": "execute_result"
    }
   ],
   "source": [
    "money=data.groupby(['sub_category_id']).agg({'goal':'sum'})\n",
    "res = money.apply(lambda x: x.sort_values(ascending=False).head(3))\n",
    "res"
   ]
  },
  {
   "cell_type": "code",
   "execution_count": 168,
   "id": "57ed0939",
   "metadata": {},
   "outputs": [],
   "source": [
    "company=data.groupby(['outcome','name']).agg({'goal':'sum','backers':'count'})\n",
    "g = company['goal'].groupby('outcome', group_keys=False)"
   ]
  },
  {
   "cell_type": "code",
   "execution_count": 169,
   "id": "feba9369",
   "metadata": {},
   "outputs": [
    {
     "data": {
      "text/plain": [
       "outcome       name                                                          \n",
       "'canceled'    '404 ERROR - The first emergency kit for an internet blackout'    8.876757e+07\n",
       "'failed'      'Is Anyone Out There ?'                                           1.000000e+08\n",
       "'live'        'Kitty\\'s Secret Activities Memoir'                               1.000000e+06\n",
       "'successful'  'WISH I WAS HERE'                                                 2.000000e+06\n",
       "'suspended'   'New Micro Drone 3.5 - First Person View Flying!'                 2.117792e+05\n",
       "'undefined'   'Who are you? – Feel the Great Shift of Awakening'                9.900000e+03\n",
       "Name: goal, dtype: float64"
      ]
     },
     "execution_count": 169,
     "metadata": {},
     "output_type": "execute_result"
    }
   ],
   "source": [
    "g.nlargest(1)"
   ]
  },
  {
   "cell_type": "code",
   "execution_count": 172,
   "id": "7858a86e",
   "metadata": {},
   "outputs": [],
   "source": [
    "country=data.groupby(['contry_id']).agg({'pledged':'sum'})"
   ]
  },
  {
   "cell_type": "code",
   "execution_count": 175,
   "id": "9cf7d9a7",
   "metadata": {},
   "outputs": [
    {
     "data": {
      "text/html": [
       "<div>\n",
       "<style scoped>\n",
       "    .dataframe tbody tr th:only-of-type {\n",
       "        vertical-align: middle;\n",
       "    }\n",
       "\n",
       "    .dataframe tbody tr th {\n",
       "        vertical-align: top;\n",
       "    }\n",
       "\n",
       "    .dataframe thead th {\n",
       "        text-align: right;\n",
       "    }\n",
       "</style>\n",
       "<table border=\"1\" class=\"dataframe\">\n",
       "  <thead>\n",
       "    <tr style=\"text-align: right;\">\n",
       "      <th></th>\n",
       "      <th>pledged</th>\n",
       "    </tr>\n",
       "    <tr>\n",
       "      <th>contry_id</th>\n",
       "      <th></th>\n",
       "    </tr>\n",
       "  </thead>\n",
       "  <tbody>\n",
       "    <tr>\n",
       "      <th>2</th>\n",
       "      <td>94238515.80</td>\n",
       "    </tr>\n",
       "    <tr>\n",
       "      <th>1</th>\n",
       "      <td>8775814.37</td>\n",
       "    </tr>\n",
       "    <tr>\n",
       "      <th>3</th>\n",
       "      <td>1872495.17</td>\n",
       "    </tr>\n",
       "  </tbody>\n",
       "</table>\n",
       "</div>"
      ],
      "text/plain": [
       "               pledged\n",
       "contry_id             \n",
       "2          94238515.80\n",
       "1           8775814.37\n",
       "3           1872495.17"
      ]
     },
     "execution_count": 175,
     "metadata": {},
     "output_type": "execute_result"
    }
   ],
   "source": [
    "res = country.apply(lambda x: x.sort_values(ascending=False).head(3))\n",
    "res"
   ]
  },
  {
   "cell_type": "code",
   "execution_count": 177,
   "id": "41e118be",
   "metadata": {},
   "outputs": [
    {
     "data": {
      "text/html": [
       "<div>\n",
       "<style scoped>\n",
       "    .dataframe tbody tr th:only-of-type {\n",
       "        vertical-align: middle;\n",
       "    }\n",
       "\n",
       "    .dataframe tbody tr th {\n",
       "        vertical-align: top;\n",
       "    }\n",
       "\n",
       "    .dataframe thead th {\n",
       "        text-align: right;\n",
       "    }\n",
       "</style>\n",
       "<table border=\"1\" class=\"dataframe\">\n",
       "  <thead>\n",
       "    <tr style=\"text-align: right;\">\n",
       "      <th></th>\n",
       "      <th>backers</th>\n",
       "    </tr>\n",
       "    <tr>\n",
       "      <th>contry_id</th>\n",
       "      <th></th>\n",
       "    </tr>\n",
       "  </thead>\n",
       "  <tbody>\n",
       "    <tr>\n",
       "      <th>2</th>\n",
       "      <td>9891</td>\n",
       "    </tr>\n",
       "    <tr>\n",
       "      <th>1</th>\n",
       "      <td>1109</td>\n",
       "    </tr>\n",
       "    <tr>\n",
       "      <th>3</th>\n",
       "      <td>491</td>\n",
       "    </tr>\n",
       "  </tbody>\n",
       "</table>\n",
       "</div>"
      ],
      "text/plain": [
       "           backers\n",
       "contry_id         \n",
       "2             9891\n",
       "1             1109\n",
       "3              491"
      ]
     },
     "execution_count": 177,
     "metadata": {},
     "output_type": "execute_result"
    }
   ],
   "source": [
    "country=data.groupby(['contry_id']).agg({'backers':'count'})\n",
    "res = country.apply(lambda x: x.sort_values(ascending=False).head(3))\n",
    "res"
   ]
  },
  {
   "cell_type": "code",
   "execution_count": 185,
   "id": "157d9377",
   "metadata": {},
   "outputs": [],
   "source": [
    "data['time_length']=(pd.to_datetime(data['deadline'])-pd.to_datetime(data['launched'])).astype('timedelta64[h]')"
   ]
  },
  {
   "cell_type": "code",
   "execution_count": 256,
   "id": "a294d78c",
   "metadata": {},
   "outputs": [
    {
     "data": {
      "text/html": [
       "<div>\n",
       "<style scoped>\n",
       "    .dataframe tbody tr th:only-of-type {\n",
       "        vertical-align: middle;\n",
       "    }\n",
       "\n",
       "    .dataframe tbody tr th {\n",
       "        vertical-align: top;\n",
       "    }\n",
       "\n",
       "    .dataframe thead th {\n",
       "        text-align: right;\n",
       "    }\n",
       "</style>\n",
       "<table border=\"1\" class=\"dataframe\">\n",
       "  <thead>\n",
       "    <tr style=\"text-align: right;\">\n",
       "      <th></th>\n",
       "      <th>time_length</th>\n",
       "      <th>goal</th>\n",
       "    </tr>\n",
       "    <tr>\n",
       "      <th>outcome</th>\n",
       "      <th></th>\n",
       "      <th></th>\n",
       "    </tr>\n",
       "  </thead>\n",
       "  <tbody>\n",
       "    <tr>\n",
       "      <th>'canceled'</th>\n",
       "      <td>437112.0</td>\n",
       "      <td>1.067596e+08</td>\n",
       "    </tr>\n",
       "    <tr>\n",
       "      <th>'failed'</th>\n",
       "      <td>6007368.0</td>\n",
       "      <td>7.275420e+08</td>\n",
       "    </tr>\n",
       "    <tr>\n",
       "      <th>'live'</th>\n",
       "      <td>93912.0</td>\n",
       "      <td>3.981773e+06</td>\n",
       "    </tr>\n",
       "    <tr>\n",
       "      <th>'successful'</th>\n",
       "      <td>3742536.0</td>\n",
       "      <td>4.646728e+07</td>\n",
       "    </tr>\n",
       "    <tr>\n",
       "      <th>'suspended'</th>\n",
       "      <td>18048.0</td>\n",
       "      <td>4.892113e+05</td>\n",
       "    </tr>\n",
       "    <tr>\n",
       "      <th>'undefined'</th>\n",
       "      <td>106680.0</td>\n",
       "      <td>5.476021e+05</td>\n",
       "    </tr>\n",
       "  </tbody>\n",
       "</table>\n",
       "</div>"
      ],
      "text/plain": [
       "              time_length          goal\n",
       "outcome                                \n",
       "'canceled'       437112.0  1.067596e+08\n",
       "'failed'        6007368.0  7.275420e+08\n",
       "'live'            93912.0  3.981773e+06\n",
       "'successful'    3742536.0  4.646728e+07\n",
       "'suspended'       18048.0  4.892113e+05\n",
       "'undefined'      106680.0  5.476021e+05"
      ]
     },
     "execution_count": 256,
     "metadata": {},
     "output_type": "execute_result"
    }
   ],
   "source": [
    "c=data.groupby(['outcome']).agg({'time_length':'sum','goal':'sum'})\n",
    "c"
   ]
  },
  {
   "cell_type": "code",
   "execution_count": 237,
   "id": "1f859b18",
   "metadata": {},
   "outputs": [
    {
     "data": {
      "text/html": [
       "<div>\n",
       "<style scoped>\n",
       "    .dataframe tbody tr th:only-of-type {\n",
       "        vertical-align: middle;\n",
       "    }\n",
       "\n",
       "    .dataframe tbody tr th {\n",
       "        vertical-align: top;\n",
       "    }\n",
       "\n",
       "    .dataframe thead th {\n",
       "        text-align: right;\n",
       "    }\n",
       "</style>\n",
       "<table border=\"1\" class=\"dataframe\">\n",
       "  <thead>\n",
       "    <tr style=\"text-align: right;\">\n",
       "      <th></th>\n",
       "      <th>time_length</th>\n",
       "      <th>backers</th>\n",
       "    </tr>\n",
       "    <tr>\n",
       "      <th>outcome</th>\n",
       "      <th></th>\n",
       "      <th></th>\n",
       "    </tr>\n",
       "  </thead>\n",
       "  <tbody>\n",
       "    <tr>\n",
       "      <th>'canceled'</th>\n",
       "      <td>437112.0</td>\n",
       "      <td>522</td>\n",
       "    </tr>\n",
       "    <tr>\n",
       "      <th>'failed'</th>\n",
       "      <td>6007368.0</td>\n",
       "      <td>7134</td>\n",
       "    </tr>\n",
       "    <tr>\n",
       "      <th>'live'</th>\n",
       "      <td>93912.0</td>\n",
       "      <td>96</td>\n",
       "    </tr>\n",
       "    <tr>\n",
       "      <th>'successful'</th>\n",
       "      <td>3742536.0</td>\n",
       "      <td>4808</td>\n",
       "    </tr>\n",
       "    <tr>\n",
       "      <th>'suspended'</th>\n",
       "      <td>18048.0</td>\n",
       "      <td>24</td>\n",
       "    </tr>\n",
       "    <tr>\n",
       "      <th>'undefined'</th>\n",
       "      <td>106680.0</td>\n",
       "      <td>130</td>\n",
       "    </tr>\n",
       "  </tbody>\n",
       "</table>\n",
       "</div>"
      ],
      "text/plain": [
       "              time_length  backers\n",
       "outcome                           \n",
       "'canceled'       437112.0      522\n",
       "'failed'        6007368.0     7134\n",
       "'live'            93912.0       96\n",
       "'successful'    3742536.0     4808\n",
       "'suspended'       18048.0       24\n",
       "'undefined'      106680.0      130"
      ]
     },
     "execution_count": 237,
     "metadata": {},
     "output_type": "execute_result"
    }
   ],
   "source": [
    "b=data.groupby(['outcome']).agg({'time_length':'sum','backers':'count'})\n",
    "b"
   ]
  },
  {
   "cell_type": "markdown",
   "id": "15a06654",
   "metadata": {},
   "source": [
    "## Part 2 - Visualize the Data"
   ]
  },
  {
   "cell_type": "code",
   "execution_count": 228,
   "id": "e839d467",
   "metadata": {},
   "outputs": [],
   "source": [
    "import seaborn as sns\n",
    "import matplotlib.pyplot as plt"
   ]
  },
  {
   "cell_type": "code",
   "execution_count": 219,
   "id": "046d5417",
   "metadata": {},
   "outputs": [
    {
     "data": {
      "text/plain": [
       "<seaborn.axisgrid.FacetGrid at 0x148cb3e20>"
      ]
     },
     "execution_count": 219,
     "metadata": {},
     "output_type": "execute_result"
    },
    {
     "data": {
      "image/png": "[encoded data removed]",
      "text/plain": [
       "<Figure size 720x360 with 1 Axes>"
      ]
     },
     "metadata": {
      "needs_background": "light"
     },
     "output_type": "display_data"
    }
   ],
   "source": [
    "g=sns.catplot(x=\"outcome\", y=\"goal\",\n",
    "                data=data,ci=None,\n",
    "                kind=\"bar\",  aspect=2)\n",
    "\n",
    "g.set(ylim=(0,250000))"
   ]
  },
  {
   "cell_type": "code",
   "execution_count": 227,
   "id": "d6241aa1",
   "metadata": {},
   "outputs": [
    {
     "data": {
      "text/plain": [
       "<seaborn.axisgrid.FacetGrid at 0x148730a30>"
      ]
     },
     "execution_count": 227,
     "metadata": {},
     "output_type": "execute_result"
    },
    {
     "data": {
      "image/png": "[encoded data removed]",
      "text/plain": [
       "<Figure size 720x360 with 1 Axes>"
      ]
     },
     "metadata": {
      "needs_background": "light"
     },
     "output_type": "display_data"
    }
   ],
   "source": [
    "sns.catplot(x=\"outcome\", y=\"backers\",\n",
    "                data=data, ci=None,\n",
    "                kind=\"bar\",  aspect=2)"
   ]
  },
  {
   "cell_type": "code",
   "execution_count": 253,
   "id": "599caf14",
   "metadata": {},
   "outputs": [
    {
     "data": {
      "text/plain": [
       "<seaborn.axisgrid.FacetGrid at 0x156c04d30>"
      ]
     },
     "execution_count": 253,
     "metadata": {},
     "output_type": "execute_result"
    },
    {
     "data": {
      "image/png": "[encoded data removed]",
      "text/plain": [
       "<Figure size 456.25x360 with 1 Axes>"
      ]
     },
     "metadata": {
      "needs_background": "light"
     },
     "output_type": "display_data"
    }
   ],
   "source": [
    "sns.relplot(data=b, x=b['time_length'].values, y=b['backers'].values, hue=b.index)"
   ]
  },
  {
   "cell_type": "code",
   "execution_count": 259,
   "id": "3ef27ffb",
   "metadata": {},
   "outputs": [
    {
     "data": {
      "text/plain": [
       "<seaborn.axisgrid.FacetGrid at 0x156c04d30>"
      ]
     },
     "execution_count": 259,
     "metadata": {},
     "output_type": "execute_result"
    },
    {
     "data": {
      "image/png": "[encoded data removed]",
      "text/plain": [
       "<Figure size 456.25x360 with 1 Axes>"
      ]
     },
     "metadata": {
      "needs_background": "light"
     },
     "output_type": "display_data"
    }
   ],
   "source": [
    "sns.relplot(data=c, x=c['time_length'].values, y=c['goal'].values, hue=c.index)\n",
    "g.set(ylim=(0,2500000))"
   ]
  },
  {
   "cell_type": "code",
   "execution_count": 320,
   "id": "48e16f04",
   "metadata": {},
   "outputs": [
    {
     "data": {
      "text/plain": [
       "<seaborn.axisgrid.FacetGrid at 0x15d544ac0>"
      ]
     },
     "execution_count": 320,
     "metadata": {},
     "output_type": "execute_result"
    },
    {
     "data": {
      "image/png": "[encoded data removed]",
      "text/plain": [
       "<Figure size 720x360 with 1 Axes>"
      ]
     },
     "metadata": {
      "needs_background": "light"
     },
     "output_type": "display_data"
    }
   ],
   "source": [
    "sns.catplot(x=\"outcome\", y=\"pledged\",\n",
    "                data=data, ci=None,\n",
    "                kind=\"bar\",  aspect=2)"
   ]
  },
  {
   "cell_type": "code",
   "execution_count": null,
   "id": "d08dcb63",
   "metadata": {},
   "outputs": [],
   "source": []
  }
 ],
 "metadata": {
  "kernelspec": {
   "display_name": "Python 3 (ipykernel)",
   "language": "python",
   "name": "python3"
  },
  "language_info": {
   "codemirror_mode": {
    "name": "ipython",
    "version": 3
   },
   "file_extension": ".py",
   "mimetype": "text/x-python",
   "name": "python",
   "nbconvert_exporter": "python",
   "pygments_lexer": "ipython3",
   "version": "3.9.10"
  }
 },
 "nbformat": 4,
 "nbformat_minor": 5
}
